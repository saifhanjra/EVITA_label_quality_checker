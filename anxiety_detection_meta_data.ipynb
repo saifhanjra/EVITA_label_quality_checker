{
 "cells": [
  {
   "cell_type": "code",
   "execution_count": 214,
   "id": "f387f1bc-2c29-4117-b606-0b06369f26f3",
   "metadata": {},
   "outputs": [],
   "source": [
    "import pandas as pd\n",
    "import numpy as np\n",
    "import os\n",
    "import glob\n",
    "from pathlib import Path\n",
    "import numpy as np"
   ]
  },
  {
   "cell_type": "markdown",
   "id": "8e60eff7-b67e-4359-a519-6bfc220df7f3",
   "metadata": {},
   "source": [
    "## Dataset 1"
   ]
  },
  {
   "cell_type": "code",
   "execution_count": 215,
   "id": "f415c9a1-1d0d-408b-860d-714b1117cb3b",
   "metadata": {},
   "outputs": [],
   "source": [
    "meta_data_path = \"/home/muhammad/Desktop/Datasets/dataset_anxiety/1_fusion_corpus_anxiety/meta_anxiety.xlsx\""
   ]
  },
  {
   "cell_type": "code",
   "execution_count": 216,
   "id": "a9b4ddb0-2a17-42d4-afba-d5552e1fae73",
   "metadata": {},
   "outputs": [],
   "source": [
    "meta_df_fusion = pd.read_excel(meta_data_path)"
   ]
  },
  {
   "cell_type": "code",
   "execution_count": 217,
   "id": "0ea3851f-6735-4bb4-addb-5fe011697036",
   "metadata": {},
   "outputs": [],
   "source": [
    "unique_bai_values_fusion = meta_df_fusion[\"BAITotal\"].unique()"
   ]
  },
  {
   "cell_type": "code",
   "execution_count": 218,
   "id": "02b2fbe3-43f6-49c7-b41d-dacef74628eb",
   "metadata": {},
   "outputs": [
    {
     "data": {
      "text/plain": [
       "array([ 4.,  9.,  0., 20.,  2., 10., 14., 17., 11.,  1.,  8., 19.,  6.,\n",
       "        5.,  3., 26., 18.,  7., 37., 16., 43., 24., 12., 15., 13., 27.,\n",
       "       51., 21., 31., 28., 23., 47., 40., 33., nan, 39., 32., 25., 44.,\n",
       "       30., 29., 34., 35., 22., 36., 38., 60., 49., 41.])"
      ]
     },
     "execution_count": 218,
     "metadata": {},
     "output_type": "execute_result"
    }
   ],
   "source": [
    "unique_bai_values_fusion"
   ]
  },
  {
   "cell_type": "code",
   "execution_count": 219,
   "id": "d1a2599f-ad5f-4ea5-b93c-b6a2e31fab5b",
   "metadata": {},
   "outputs": [
    {
     "data": {
      "text/plain": [
       "48"
      ]
     },
     "execution_count": 219,
     "metadata": {},
     "output_type": "execute_result"
    }
   ],
   "source": [
    "meta_df_fusion[\"BAITotal\"].nunique()"
   ]
  },
  {
   "cell_type": "code",
   "execution_count": 220,
   "id": "66f6e555-c921-4754-ad37-8a02e4ea22f4",
   "metadata": {},
   "outputs": [],
   "source": [
    "bai_score_fusion = meta_df_fusion[\"BAITotal\"].values"
   ]
  },
  {
   "cell_type": "code",
   "execution_count": 221,
   "id": "f6c4804b-6855-462b-82c7-22ea337cc4c0",
   "metadata": {},
   "outputs": [],
   "source": [
    "\n",
    "# variable to hold the count"
   ]
  },
  {
   "cell_type": "code",
   "execution_count": 222,
   "id": "6633859a-c078-4472-8851-21a1ae4022bf",
   "metadata": {},
   "outputs": [],
   "source": [
    "distinct_value_count_fusion = {}\n",
    "\n",
    "for single_score in bai_score_fusion:\n",
    "    \n",
    "    if distinct_value_count_fusion.get(single_score):\n",
    "        \n",
    "        distinct_value_count_fusion[single_score] = distinct_value_count_fusion[single_score] + 1\n",
    "        \n",
    "    else:\n",
    "        \n",
    "        distinct_value_count_fusion[single_score] = 1\n",
    "    "
   ]
  },
  {
   "cell_type": "code",
   "execution_count": 223,
   "id": "394da76f-1c6e-404e-a0ab-c564c4ef4862",
   "metadata": {},
   "outputs": [
    {
     "data": {
      "text/plain": [
       "{4.0: 802,\n",
       " 9.0: 557,\n",
       " 0.0: 1021,\n",
       " 20.0: 184,\n",
       " 2.0: 545,\n",
       " 10.0: 342,\n",
       " 14.0: 263,\n",
       " 17.0: 112,\n",
       " 11.0: 310,\n",
       " 1.0: 545,\n",
       " 8.0: 490,\n",
       " 19.0: 111,\n",
       " 6.0: 537,\n",
       " 5.0: 484,\n",
       " 3.0: 465,\n",
       " 26.0: 134,\n",
       " 18.0: 139,\n",
       " 7.0: 586,\n",
       " 37.0: 23,\n",
       " 16.0: 366,\n",
       " 43.0: 12,\n",
       " 24.0: 100,\n",
       " 12.0: 434,\n",
       " 15.0: 193,\n",
       " 13.0: 187,\n",
       " 27.0: 25,\n",
       " 51.0: 7,\n",
       " 21.0: 160,\n",
       " 31.0: 56,\n",
       " 28.0: 43,\n",
       " 23.0: 72,\n",
       " 47.0: 15,\n",
       " 40.0: 51,\n",
       " 33.0: 83,\n",
       " nan: 1,\n",
       " nan: 1,\n",
       " nan: 1,\n",
       " nan: 1,\n",
       " nan: 1,\n",
       " nan: 1,\n",
       " nan: 1,\n",
       " nan: 1,\n",
       " nan: 1,\n",
       " 39.0: 27,\n",
       " 32.0: 44,\n",
       " 25.0: 65,\n",
       " 44.0: 25,\n",
       " 30.0: 18,\n",
       " 29.0: 31,\n",
       " 34.0: 44,\n",
       " 35.0: 20,\n",
       " 22.0: 101,\n",
       " 36.0: 14,\n",
       " 38.0: 78,\n",
       " 60.0: 8,\n",
       " 49.0: 8,\n",
       " 41.0: 19,\n",
       " nan: 1,\n",
       " nan: 1}"
      ]
     },
     "execution_count": 223,
     "metadata": {},
     "output_type": "execute_result"
    }
   ],
   "source": [
    "distinct_value_count_fusion"
   ]
  },
  {
   "cell_type": "markdown",
   "id": "0eb1b058-0d01-41b6-9085-16c87ab30eca",
   "metadata": {},
   "source": [
    "## Dataset 2"
   ]
  },
  {
   "cell_type": "code",
   "execution_count": 255,
   "id": "c044ee36-26b6-4412-8e41-de23ce7406a4",
   "metadata": {},
   "outputs": [],
   "source": [
    "meta_data_anxiety_bai =\"/home/muhammad/Desktop/Datasets/dataset_anxiety/1_Metadata_Anxiety_BAI_Checked/Metadaten_Anxiety_BAI_checked1.xlsx\""
   ]
  },
  {
   "cell_type": "code",
   "execution_count": 256,
   "id": "bf56975b-97e2-49c0-92bf-1f12d7191cab",
   "metadata": {},
   "outputs": [],
   "source": [
    "meta_data = pd.read_excel(meta_data_anxiety_bai)"
   ]
  },
  {
   "cell_type": "code",
   "execution_count": 257,
   "id": "c959f557-cd66-488d-b14e-81b6a6f9c1e3",
   "metadata": {},
   "outputs": [],
   "source": [
    "unique_bai_values = meta_data[\"BAITotal\"].unique()"
   ]
  },
  {
   "cell_type": "code",
   "execution_count": 258,
   "id": "ac332815-ad07-41d4-8d88-4c1b0bd4fb7d",
   "metadata": {},
   "outputs": [
    {
     "data": {
      "text/plain": [
       "array([ 4.,  9.,  0., 20.,  2., 10., 14., 17., 11.,  1.,  8., 19.,  6.,\n",
       "        5.,  3., 26., 18.,  7., 37., 16., 43., 24., 12., 15., 13., 27.,\n",
       "       51., 21., 31., 28., 23., 47., 40., 33., nan, 39., 32., 25., 44.,\n",
       "       30., 29., 34., 35., 22., 36., 38., 60., 49., 41.])"
      ]
     },
     "execution_count": 258,
     "metadata": {},
     "output_type": "execute_result"
    }
   ],
   "source": [
    "unique_bai_values"
   ]
  },
  {
   "cell_type": "code",
   "execution_count": 259,
   "id": "9c23656f-c5f2-4246-8a41-ea10d776129a",
   "metadata": {},
   "outputs": [
    {
     "data": {
      "text/plain": [
       "48"
      ]
     },
     "execution_count": 259,
     "metadata": {},
     "output_type": "execute_result"
    }
   ],
   "source": [
    "meta_data[\"BAITotal\"].nunique()"
   ]
  },
  {
   "cell_type": "code",
   "execution_count": 260,
   "id": "baa4f0a1-9af7-4ab0-acad-f008187961d0",
   "metadata": {},
   "outputs": [],
   "source": [
    "bai_total = meta_data[\"BAITotal\"].values"
   ]
  },
  {
   "cell_type": "code",
   "execution_count": 261,
   "id": "b75061d7-e02f-410e-ae88-6ebb5fc9fad7",
   "metadata": {},
   "outputs": [
    {
     "data": {
      "text/plain": [
       "array([ 4.,  4.,  4., ..., 11., 11., 11.])"
      ]
     },
     "execution_count": 261,
     "metadata": {},
     "output_type": "execute_result"
    }
   ],
   "source": [
    "bai_total"
   ]
  },
  {
   "cell_type": "code",
   "execution_count": 262,
   "id": "9b726ad3-ea8f-4c82-987d-715bf89a31ee",
   "metadata": {},
   "outputs": [],
   "source": [
    "distinct_value_count = {}\n",
    "\n",
    "for single_score in bai_total:\n",
    "    \n",
    "    if distinct_value_count.get(single_score):\n",
    "        \n",
    "        distinct_value_count[single_score] = distinct_value_count[single_score] + 1\n",
    "        \n",
    "    else:\n",
    "        \n",
    "        distinct_value_count[single_score] = 1"
   ]
  },
  {
   "cell_type": "code",
   "execution_count": 263,
   "id": "d73bfab0-6553-48cd-b1ad-f0623455416a",
   "metadata": {},
   "outputs": [
    {
     "data": {
      "text/plain": [
       "{4.0: 882,\n",
       " 9.0: 604,\n",
       " 0.0: 1098,\n",
       " 20.0: 207,\n",
       " 2.0: 595,\n",
       " 10.0: 378,\n",
       " 14.0: 287,\n",
       " 17.0: 129,\n",
       " 11.0: 336,\n",
       " 1.0: 572,\n",
       " 8.0: 529,\n",
       " 19.0: 121,\n",
       " 6.0: 587,\n",
       " 5.0: 518,\n",
       " 3.0: 505,\n",
       " 26.0: 148,\n",
       " 18.0: 158,\n",
       " 7.0: 638,\n",
       " 37.0: 28,\n",
       " 16.0: 378,\n",
       " 43.0: 16,\n",
       " 24.0: 109,\n",
       " 12.0: 464,\n",
       " 15.0: 211,\n",
       " 13.0: 207,\n",
       " 27.0: 32,\n",
       " 51.0: 8,\n",
       " 21.0: 164,\n",
       " 31.0: 60,\n",
       " 28.0: 45,\n",
       " 23.0: 83,\n",
       " 47.0: 16,\n",
       " 40.0: 53,\n",
       " 33.0: 89,\n",
       " nan: 1,\n",
       " nan: 1,\n",
       " nan: 1,\n",
       " nan: 1,\n",
       " nan: 1,\n",
       " nan: 1,\n",
       " nan: 1,\n",
       " nan: 1,\n",
       " nan: 1,\n",
       " 39.0: 28,\n",
       " 32.0: 47,\n",
       " 25.0: 70,\n",
       " 44.0: 25,\n",
       " 30.0: 20,\n",
       " 29.0: 32,\n",
       " 34.0: 47,\n",
       " 35.0: 20,\n",
       " 22.0: 104,\n",
       " 36.0: 15,\n",
       " 38.0: 78,\n",
       " 60.0: 8,\n",
       " 49.0: 8,\n",
       " 41.0: 21,\n",
       " nan: 1,\n",
       " nan: 1}"
      ]
     },
     "execution_count": 263,
     "metadata": {},
     "output_type": "execute_result"
    }
   ],
   "source": [
    "distinct_value_count"
   ]
  },
  {
   "cell_type": "markdown",
   "id": "df88b4bd-beef-4736-a275-47de06d0bd14",
   "metadata": {},
   "source": [
    "### Distinct files in two datasets"
   ]
  },
  {
   "cell_type": "code",
   "execution_count": 269,
   "id": "722bdfbc-04ec-4a8c-88bd-501ca6c7bf07",
   "metadata": {},
   "outputs": [],
   "source": [
    "file_names = meta_data[\"Filename\"].values"
   ]
  },
  {
   "cell_type": "code",
   "execution_count": 282,
   "id": "ceb9f687-552f-48ad-b79c-34144d2ee390",
   "metadata": {},
   "outputs": [
    {
     "data": {
      "text/plain": [
       "array(['vp_01_00_ID_AA1711', 'vp_01_01_tat_cry_aa1711',\n",
       "       'vp_01_02_tat_cookie_aa1711', ..., 'vp_078_01_00_sg_cream.wav',\n",
       "       'vp_078_01_00_sg_good_evening.wav',\n",
       "       'vp_078_01_00_story_disgust_childhood.wav'], dtype=object)"
      ]
     },
     "execution_count": 282,
     "metadata": {},
     "output_type": "execute_result"
    }
   ],
   "source": [
    "file_names"
   ]
  },
  {
   "cell_type": "code",
   "execution_count": 283,
   "id": "e220ed89-41af-4f62-9738-6542ae066013",
   "metadata": {},
   "outputs": [
    {
     "data": {
      "text/plain": [
       "10789"
      ]
     },
     "execution_count": 283,
     "metadata": {},
     "output_type": "execute_result"
    }
   ],
   "source": [
    "file_names.size"
   ]
  },
  {
   "cell_type": "code",
   "execution_count": 284,
   "id": "ebaa7b4b-ed4b-49b3-8d2e-fbe05a6d770a",
   "metadata": {},
   "outputs": [],
   "source": [
    "file_names_fusion = meta_df_fusion[\"Filename_global\"].values"
   ]
  },
  {
   "cell_type": "code",
   "execution_count": 285,
   "id": "7be02241-8a5b-4ac8-838f-1a92e93e5412",
   "metadata": {},
   "outputs": [
    {
     "data": {
      "text/plain": [
       "True"
      ]
     },
     "execution_count": 285,
     "metadata": {},
     "output_type": "execute_result"
    }
   ],
   "source": [
    "\"402_counting\" in file_names_fusion"
   ]
  },
  {
   "cell_type": "code",
   "execution_count": 272,
   "id": "a9891021-6416-430b-b523-0982ea0c7f70",
   "metadata": {},
   "outputs": [
    {
     "data": {
      "text/plain": [
       "9967"
      ]
     },
     "execution_count": 272,
     "metadata": {},
     "output_type": "execute_result"
    }
   ],
   "source": [
    "file_names_fusion.size"
   ]
  },
  {
   "cell_type": "code",
   "execution_count": 273,
   "id": "b783072b-ed5d-40e2-a309-47eae6ae1139",
   "metadata": {},
   "outputs": [],
   "source": [
    "file_names_fusion_set = set(file_names_fusion)\n",
    "file_names_set=set(file_names)"
   ]
  },
  {
   "cell_type": "code",
   "execution_count": 274,
   "id": "6b37975d-038f-4a1d-a1fc-264f5657c60b",
   "metadata": {},
   "outputs": [],
   "source": [
    "result_differrence = list(set(file_names_fusion_set).symmetric_difference(set(file_names_set)))"
   ]
  },
  {
   "cell_type": "code",
   "execution_count": 275,
   "id": "939ad533-1fe9-40ca-a5b8-ccf40beb6ae1",
   "metadata": {},
   "outputs": [
    {
     "data": {
      "text/plain": [
       "20747"
      ]
     },
     "execution_count": 275,
     "metadata": {},
     "output_type": "execute_result"
    }
   ],
   "source": [
    "len(result_differrence)"
   ]
  },
  {
   "cell_type": "code",
   "execution_count": 276,
   "id": "d638faec-c2f4-42b6-8a70-9657df8268c7",
   "metadata": {},
   "outputs": [
    {
     "data": {
      "text/plain": [
       "set()"
      ]
     },
     "execution_count": 276,
     "metadata": {},
     "output_type": "execute_result"
    }
   ],
   "source": [
    "file_names_fusion_set.intersection(file_names_set)"
   ]
  },
  {
   "cell_type": "code",
   "execution_count": null,
   "id": "504030d3-370e-4f4f-a3c0-5f5706acbf00",
   "metadata": {},
   "outputs": [],
   "source": []
  },
  {
   "cell_type": "code",
   "execution_count": null,
   "id": "f3ace0eb-debe-46f9-aeb0-273d003d61dd",
   "metadata": {},
   "outputs": [],
   "source": []
  },
  {
   "cell_type": "code",
   "execution_count": null,
   "id": "9a93a6e3-e0a2-4c60-8c79-65c5308ab65f",
   "metadata": {},
   "outputs": [],
   "source": []
  },
  {
   "cell_type": "code",
   "execution_count": null,
   "id": "72480460-7bdb-4b21-96da-1b31bdc4707d",
   "metadata": {},
   "outputs": [],
   "source": []
  },
  {
   "cell_type": "code",
   "execution_count": null,
   "id": "dd9cfbf8-209a-48d0-b7ad-68bc85df355f",
   "metadata": {},
   "outputs": [],
   "source": []
  }
 ],
 "metadata": {
  "kernelspec": {
   "display_name": "Python 3 (ipykernel)",
   "language": "python",
   "name": "python3"
  },
  "language_info": {
   "codemirror_mode": {
    "name": "ipython",
    "version": 3
   },
   "file_extension": ".py",
   "mimetype": "text/x-python",
   "name": "python",
   "nbconvert_exporter": "python",
   "pygments_lexer": "ipython3",
   "version": "3.9.16"
  }
 },
 "nbformat": 4,
 "nbformat_minor": 5
}
