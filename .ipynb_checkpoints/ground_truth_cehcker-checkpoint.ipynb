{
 "cells": [
  {
   "cell_type": "code",
   "execution_count": 156,
   "id": "2e48bf26-2731-4e8b-8842-a4cd67d9383d",
   "metadata": {},
   "outputs": [],
   "source": [
    "import pandas as pd\n",
    "import numpy as np\n",
    "import os\n",
    "import glob\n",
    "from pathlib import Path"
   ]
  },
  {
   "cell_type": "code",
   "execution_count": 157,
   "id": "d1ec7fff-d882-438f-a7c3-947b19f6480b",
   "metadata": {},
   "outputs": [],
   "source": [
    "csv_files = glob.glob(\"/home/muhammad/Desktop/Datasets/dataset_evaluation_EVITA/labeled/*.csv\")\n",
    "#csv_files = \"/home/muhammad/Desktop/Datasets/dataset_evaluation_EVITA/labeled/FR_ESE_20_041218_1400_generic_EmoVideoAnnotation_master.csv\""
   ]
  },
  {
   "cell_type": "code",
   "execution_count": 158,
   "id": "7cb4e475-5dd9-4732-96a0-fb3794a21b5a",
   "metadata": {},
   "outputs": [
    {
     "data": {
      "text/plain": [
       "55"
      ]
     },
     "execution_count": 158,
     "metadata": {},
     "output_type": "execute_result"
    }
   ],
   "source": [
    "len(csv_files)"
   ]
  },
  {
   "cell_type": "code",
   "execution_count": 153,
   "id": "4bf6cd09-f374-4db4-9336-e4975e9aa7b0",
   "metadata": {},
   "outputs": [],
   "source": [
    "def extract_data_from_Source_col(label_df):\n",
    "    filtered_info_collective = []\n",
    "    col_name = label_df.columns[label_df.columns.str.contains(pat = 'Source')]\n",
    "    col_name = col_name[0]\n",
    "    session_labels=label_df[col_name].to_list()\n",
    "    for single_label in session_labels:\n",
    "        single_label = str(single_label)\n",
    "        comma_sep = single_label.replace(';', ',')\n",
    "        comma_sep_list=comma_sep.split(',')\n",
    "        #str_list = list(filter(None, comma_sep_list))\n",
    "        str_list = ['NaN' if x=='' else x for x in comma_sep_list]\n",
    "        #fileterd_info = str_list\n",
    "        fileterd_info = [str_eleme.strip() for str_eleme in str_list]\n",
    "        \n",
    "        if len(fileterd_info) == 5\n",
    "        \n",
    "            filtered_info_collective.append(fileterd_info)\n",
    "        \n",
    "        #print(fileterd_info)\n",
    "        \n",
    "    return (col_name, filtered_info_collective)\n",
    "    \n",
    "    \n",
    "    "
   ]
  },
  {
   "cell_type": "code",
   "execution_count": 162,
   "id": "da5431ac-e200-4800-bb28-1389c944bcfa",
   "metadata": {},
   "outputs": [],
   "source": [
    "single_csv_file = \"/home/muhammad/Desktop/Datasets/dataset_evaluation_EVITA/labeled/FR_TUN_01_010219_1400_generic_EmoVideoAnnotation_master.csv\"\n",
    "label_df = pd.read_csv(single_csv_file)\n",
    "\n",
    "col_name, filtered_info_collective = extract_data_from_Source_col(label_df)\n",
    "col_name = ['source','label','start_n','end_n', 'remark']\n",
    "\n"
   ]
  },
  {
   "cell_type": "code",
   "execution_count": 163,
   "id": "55899d49-a704-4e08-bad3-d0fdb526feef",
   "metadata": {},
   "outputs": [
    {
     "data": {
      "text/plain": [
       "[['Both', '0', 'NaN', 'NaN', 'incorrect label'],\n",
       " ['Both', '5', 'NaN', 'NaN', 'incorrect label'],\n",
       " ['Both', '1', 'NaN', 'NaN', 'incorrect label'],\n",
       " ['Both', '5', 'NaN', 'NaN', 'incorrect label'],\n",
       " ['Both', '0', 'NaN', 'NaN', 'incorrect label'],\n",
       " ['Both',\n",
       "  '5',\n",
       "  'NaN',\n",
       "  'NaN',\n",
       "  '\"incorrect label',\n",
       "  'talking to another person \"'],\n",
       " ['Both', '0', 'NaN', 'NaN', 'incorrect label']]"
      ]
     },
     "execution_count": 163,
     "metadata": {},
     "output_type": "execute_result"
    }
   ],
   "source": [
    "filtered_info_collective"
   ]
  },
  {
   "cell_type": "code",
   "execution_count": 137,
   "id": "a2ef27d3-2726-495d-ad95-71d542b51b71",
   "metadata": {},
   "outputs": [
    {
     "name": "stdout",
     "output_type": "stream",
     "text": [
      "Index(['IDType', 'Start', 'End', 'Source;label;start_n;end_n;remark'], dtype='object')\n",
      "['Both;4;;;incorrect label', 'Both;5;;;incorrect label', 'Both;4;;;incorrect label', 'Both;0;;;incorrect label', 'Both;0;;;incorrect label', 'Both;5;;;incorrect label', 'Both;5;;;incorrect label', 'Disagreement Annotator 1;5;;;incorrect label', 'Disagreement Annotator 2;5;;;incorrect label', 'Both;5;;;incorrect label', 'Both;0;;;incorrect label', 'Both;0;;;incorrect label', 'Both;4;;;incorrect label', 'Disagreement Annotator 1;4;;;incorrect label', 'Disagreement Annotator 2;4;;;', 'Both;4;;;incorrect label', 'Both;0;;;incorrect label', 'Both;0;;;incorrect label', 'Both;0;;;incorrect label', 'Both;0;;;incorrect label', 'Both;0;;;incorrect label', 'Both;0;;;incorrect label', 'Both;0;;;incorrect label', 'Both;0;;;incorrect label', 'Both;5;;;incorrect label', 'Both;5;;;incorrect label', 'Both;0;;;incorrect label', 'Both;0;;;incorrect label', 'Both;0;;;incorrect label', 'Both;5;;;incorrect label', 'Both;0;;;incorrect label', 'Both;0;;;incorrect label', 'Both;0;;;incorrect label', 'Both;5;;;incorrect label', 'Both;4;0.08;0.13;incorrect time ', 'Both;0;;;incorrect label', 'Both;0;;;incorrect label', 'Both;0;;;incorrect label', 'Both;5;;;incorrect label', 'Both;0;;;incorrect label', 'Both;0;;;incorrect label', 'Both;5;;;incorrect label', 'Both;5;;;incorrect label', 'Both;1;;;incorrect label', 'Both;0;;;incorrect label', 'Both;0;;;incorrect label', 'Both;0;;;incorrect label', 'Both;0;;;incorrect label', 'Annotator 2;5;;;incorrect label', 'Annotator 2;5;;;incorrect label', 'Annotator 2;6;;;confused', 'Annotator 2;5;;;incorrect label', 'Annotator 2;4;;;', 'Annotator 2;4;;;', 'Annotator 2;0;;;incorrect label', 'Annotator 2;0;;;incorrect label', 'Annotator 2;5;;;incorrect label', 'Annotator 2;0;;;incorrect label', 'Annotator 2;0;;;incorrect label', 'Annotator 2;0;;;incorrect label', 'Annotator 2;0;;;incorrect label', 'Annotator 2;1;;;incorrect label', 'Annotator 2;0;;;incorrect label', 'Annotator 2;0;;;incorrect label', 'Annotator 2;0;;;incorrect label', 'Annotator 2;4;;;', 'Annotator 2;0;;;incorrect label', 'Annotator 2;0;;;incorrect label', 'Annotator 2;5;;;\"incorrect label; hand covering the face\"']\n"
     ]
    }
   ],
   "source": [
    "single_csv_file=\"/home/muhammad/Desktop/Datasets/dataset_evaluation_EVITA/labeled/FR_ESE_15_160119_1100_generic_EmoVideoAnnotation_master.csv\"\n",
    "df_csv_file = pd.read_csv(single_csv_file, on_bad_lines='skip')\n",
    "print(df_csv_file.columns)\n",
    "\n",
    "col_name_list=df_csv_file['Source;label;start_n;end_n;remark'].to_list()\n",
    "\n",
    "print(col_name_list)"
   ]
  },
  {
   "cell_type": "code",
   "execution_count": null,
   "id": "67b51163-17f9-446e-8776-2ea37d10dd50",
   "metadata": {},
   "outputs": [],
   "source": []
  },
  {
   "cell_type": "code",
   "execution_count": 138,
   "id": "2a98c847-26c1-4bb4-b7dc-37f0a7d844f9",
   "metadata": {},
   "outputs": [],
   "source": [
    "comma_sep_col_names = col_name_list[0].replace(';', ',')"
   ]
  },
  {
   "cell_type": "code",
   "execution_count": 139,
   "id": "ec65f221-cac6-4620-9b81-c633dcc6139d",
   "metadata": {},
   "outputs": [
    {
     "data": {
      "text/plain": [
       "'Both,4,,,incorrect label'"
      ]
     },
     "execution_count": 139,
     "metadata": {},
     "output_type": "execute_result"
    }
   ],
   "source": [
    "comma_sep_col_names"
   ]
  },
  {
   "cell_type": "code",
   "execution_count": 140,
   "id": "c986853d-f9bb-4681-986c-9ca0a750b54b",
   "metadata": {},
   "outputs": [],
   "source": [
    "comma_sep_list=comma_sep_col_names.split(',')"
   ]
  },
  {
   "cell_type": "code",
   "execution_count": 141,
   "id": "8d2a37b4-c333-4bca-b209-3535c180ab93",
   "metadata": {},
   "outputs": [
    {
     "data": {
      "text/plain": [
       "['Both', '4', '', '', 'incorrect label']"
      ]
     },
     "execution_count": 141,
     "metadata": {},
     "output_type": "execute_result"
    }
   ],
   "source": [
    "comma_sep_list"
   ]
  },
  {
   "cell_type": "code",
   "execution_count": 142,
   "id": "070feb7f-2e18-4e32-bb8c-cb0e1b79e10b",
   "metadata": {},
   "outputs": [],
   "source": [
    "mylist = ['NaN' if x=='' else x for x in comma_sep_list]"
   ]
  },
  {
   "cell_type": "code",
   "execution_count": 143,
   "id": "e6a4d248-0494-4c84-83b9-0698d1780122",
   "metadata": {},
   "outputs": [
    {
     "data": {
      "text/plain": [
       "['Both', '4', 'NaN', 'NaN', 'incorrect label']"
      ]
     },
     "execution_count": 143,
     "metadata": {},
     "output_type": "execute_result"
    }
   ],
   "source": [
    "mylist"
   ]
  },
  {
   "cell_type": "code",
   "execution_count": null,
   "id": "fde55b1b-9fec-47c4-a33c-ec6f8138683f",
   "metadata": {},
   "outputs": [],
   "source": []
  },
  {
   "cell_type": "code",
   "execution_count": 159,
   "id": "7ff78b7d-85e2-4282-b98e-b3bbca1a8826",
   "metadata": {},
   "outputs": [
    {
     "name": "stdout",
     "output_type": "stream",
     "text": [
      "FR_ESE_23_140119_1000_nutrition_EmoVideoAnnotation_master.csv\n",
      "5\n",
      "FR_ESE_11_301018_1500_nutrition_EmoVideoAnnotation_master.csv\n",
      "5\n",
      "FR_ESE_12_311018_1500_generic_EmoVideoAnnotation_master.csv\n",
      "5\n",
      "FR_ESE_07_221018_1400_generic_EmoVideoAnnotation_master.csv\n",
      "5\n",
      "FR_ESE_27_131218_1500_nutrition_EmoVideoAnnotation_master.csv\n",
      "5\n",
      "FR_ESE_05_151018_1600_nutrition_EmoVideoAnnotation_master.csv\n",
      "5\n",
      "FR_ESE_24_111218_1000_nutrition_EmoVideoAnnotation_master.csv\n",
      "5\n",
      "FR_ESE_01_140119_1100_generic_EmoVideoAnnotation_master.csv\n",
      "5\n",
      "FR_ESE_06_161018_1400_generic_EmoVideoAnnotation_master.csv\n",
      "5\n",
      "FR_ESE_09_231018_1100_nutrition_EmoVideoAnnotation_master.csv\n",
      "5\n",
      "FR_ESE_31_160119_1130_generic_EmoVideoAnnotation_master.csv\n",
      "5\n",
      "FR_ESE_18_271118_1000_generic_EmoVideoAnnotation_master.csv\n",
      "5\n",
      "FR_ESE_02_101018_1000_nutrition_EmoVideoAnnotation_master.csv\n",
      "5\n",
      "FR_ESE_27_131218_1500_generic_EmoVideoAnnotation_master.csv\n",
      "5\n",
      "FR_ESE_19_031218_1430_nutrition_EmoVideoAnnotation_master.csv\n",
      "5\n",
      "FR_ESE_28_171218_1500_nutrition_EmoVideoAnnotation_master.csv\n",
      "5\n",
      "FR_ESE_25_111218_1530_nutrition_EmoVideoAnnotation_master.csv\n",
      "5\n",
      "FR_ESE_25_111218_1530_generic_EmoVideoAnnotation_master.csv\n",
      "5\n",
      "FR_ESE_29_171218_1600_nutrition_EmoVideoAnnotation_master.csv\n",
      "5\n",
      "FR_ESE_19_031218_1430_generic_EmoVideoAnnotation_master.csv\n",
      "5\n",
      "FR_ESE_18_271118_1000_nutrition_EmoVideoAnnotation_master.csv\n",
      "5\n",
      "FR_TUN_03_050219_1000_generic_EmoVideoAnnotation_master.csv\n",
      "5\n",
      "FR_TUN_02_010219_1500_generic_EmoVideoAnnotation_master.csv\n",
      "5\n",
      "FR_ESE_13_310119_1100_nutrition_EmoVideoAnnotation_master.csv\n",
      "5\n",
      "FR_ESE_31_160119_1130_nutrition_EmoVideoAnnotation_master.csv\n",
      "5\n",
      "FR_ESE_16_211118_1400_nutrition_EmoVideoAnnotation_master.csv\n",
      "5\n",
      "FR_ESE_05_151018_1600_generic_EmoVideoAnnotation_master.csv\n",
      "5\n",
      "FR_ESE_22_061218_1000_nutrition_EmoVideoAnnotation_master.csv\n",
      "5\n",
      "FR_ESE_26_131218_1400_nutrition_EmoVideoAnnotation_master.csv\n",
      "5\n",
      "FR_ESE_14_191118_1400_nutrition_EmoVideoAnnotation_master.csv\n",
      "5\n",
      "FR_ESE_03_101018_1115_nutrition_EmoVideoAnnotation_master.csv\n",
      "5\n",
      "FR_ESE_28_171218_1500_generic_EmoVideoAnnotation_master.csv\n",
      "5\n",
      "FR_ESE_24_111218_1000_generic_EmoVideoAnnotation_master.csv\n",
      "5\n",
      "FR_TUN_04_050219_1100_generic_EmoVideoAnnotation_master.csv\n",
      "5\n",
      "FR_ESE_11_301018_1500_generic_EmoVideoAnnotation_master.csv\n",
      "5\n",
      "FR_ESE_03_101018_1115_generic_EmoVideoAnnotation_master.csv\n",
      "5\n",
      "FR_TUN_01_010219_1400_generic_EmoVideoAnnotation_master.csv\n",
      "5\n"
     ]
    },
    {
     "ename": "ValueError",
     "evalue": "5 columns passed, passed data had 6 columns",
     "output_type": "error",
     "traceback": [
      "\u001b[0;31m---------------------------------------------------------------------------\u001b[0m",
      "\u001b[0;31mAssertionError\u001b[0m                            Traceback (most recent call last)",
      "File \u001b[0;32m~/miniconda3/envs/sql_dep/lib/python3.9/site-packages/pandas/core/internals/construction.py:969\u001b[0m, in \u001b[0;36m_finalize_columns_and_data\u001b[0;34m(content, columns, dtype)\u001b[0m\n\u001b[1;32m    968\u001b[0m \u001b[38;5;28;01mtry\u001b[39;00m:\n\u001b[0;32m--> 969\u001b[0m     columns \u001b[38;5;241m=\u001b[39m \u001b[43m_validate_or_indexify_columns\u001b[49m\u001b[43m(\u001b[49m\u001b[43mcontents\u001b[49m\u001b[43m,\u001b[49m\u001b[43m \u001b[49m\u001b[43mcolumns\u001b[49m\u001b[43m)\u001b[49m\n\u001b[1;32m    970\u001b[0m \u001b[38;5;28;01mexcept\u001b[39;00m \u001b[38;5;167;01mAssertionError\u001b[39;00m \u001b[38;5;28;01mas\u001b[39;00m err:\n\u001b[1;32m    971\u001b[0m     \u001b[38;5;66;03m# GH#26429 do not raise user-facing AssertionError\u001b[39;00m\n",
      "File \u001b[0;32m~/miniconda3/envs/sql_dep/lib/python3.9/site-packages/pandas/core/internals/construction.py:1017\u001b[0m, in \u001b[0;36m_validate_or_indexify_columns\u001b[0;34m(content, columns)\u001b[0m\n\u001b[1;32m   1015\u001b[0m \u001b[38;5;28;01mif\u001b[39;00m \u001b[38;5;129;01mnot\u001b[39;00m is_mi_list \u001b[38;5;129;01mand\u001b[39;00m \u001b[38;5;28mlen\u001b[39m(columns) \u001b[38;5;241m!=\u001b[39m \u001b[38;5;28mlen\u001b[39m(content):  \u001b[38;5;66;03m# pragma: no cover\u001b[39;00m\n\u001b[1;32m   1016\u001b[0m     \u001b[38;5;66;03m# caller's responsibility to check for this...\u001b[39;00m\n\u001b[0;32m-> 1017\u001b[0m     \u001b[38;5;28;01mraise\u001b[39;00m \u001b[38;5;167;01mAssertionError\u001b[39;00m(\n\u001b[1;32m   1018\u001b[0m         \u001b[38;5;124mf\u001b[39m\u001b[38;5;124m\"\u001b[39m\u001b[38;5;132;01m{\u001b[39;00m\u001b[38;5;28mlen\u001b[39m(columns)\u001b[38;5;132;01m}\u001b[39;00m\u001b[38;5;124m columns passed, passed data had \u001b[39m\u001b[38;5;124m\"\u001b[39m\n\u001b[1;32m   1019\u001b[0m         \u001b[38;5;124mf\u001b[39m\u001b[38;5;124m\"\u001b[39m\u001b[38;5;132;01m{\u001b[39;00m\u001b[38;5;28mlen\u001b[39m(content)\u001b[38;5;132;01m}\u001b[39;00m\u001b[38;5;124m columns\u001b[39m\u001b[38;5;124m\"\u001b[39m\n\u001b[1;32m   1020\u001b[0m     )\n\u001b[1;32m   1021\u001b[0m \u001b[38;5;28;01melif\u001b[39;00m is_mi_list:\n\u001b[1;32m   1022\u001b[0m \n\u001b[1;32m   1023\u001b[0m     \u001b[38;5;66;03m# check if nested list column, length of each sub-list should be equal\u001b[39;00m\n",
      "\u001b[0;31mAssertionError\u001b[0m: 5 columns passed, passed data had 6 columns",
      "\nThe above exception was the direct cause of the following exception:\n",
      "\u001b[0;31mValueError\u001b[0m                                Traceback (most recent call last)",
      "Cell \u001b[0;32mIn[159], line 22\u001b[0m\n\u001b[1;32m     20\u001b[0m     filtered_data_1\u001b[38;5;241m=\u001b[39m filtered_info_collective[\u001b[38;5;241m0\u001b[39m]\n\u001b[1;32m     21\u001b[0m     \u001b[38;5;28mprint\u001b[39m(\u001b[38;5;28mlen\u001b[39m(filtered_data_1))\n\u001b[0;32m---> 22\u001b[0m     df_new \u001b[38;5;241m=\u001b[39m \u001b[43mpd\u001b[49m\u001b[38;5;241;43m.\u001b[39;49m\u001b[43mDataFrame\u001b[49m\u001b[43m(\u001b[49m\u001b[43mfiltered_info_collective\u001b[49m\u001b[43m,\u001b[49m\u001b[43m \u001b[49m\u001b[43mcolumns\u001b[49m\u001b[38;5;241;43m=\u001b[39;49m\u001b[43m \u001b[49m\u001b[43mcol_name\u001b[49m\u001b[43m)\u001b[49m\n\u001b[1;32m     24\u001b[0m     \u001b[38;5;66;03m#print(filtered_info_collective)\u001b[39;00m\n\u001b[1;32m     25\u001b[0m \n\u001b[1;32m     26\u001b[0m \u001b[38;5;66;03m#print(col_name)\u001b[39;00m\n\u001b[1;32m     27\u001b[0m \u001b[38;5;66;03m#cols= label_df.columns\u001b[39;00m\n\u001b[1;32m     28\u001b[0m \u001b[38;5;66;03m#print(cols)\u001b[39;00m\n",
      "File \u001b[0;32m~/miniconda3/envs/sql_dep/lib/python3.9/site-packages/pandas/core/frame.py:746\u001b[0m, in \u001b[0;36mDataFrame.__init__\u001b[0;34m(self, data, index, columns, dtype, copy)\u001b[0m\n\u001b[1;32m    744\u001b[0m     \u001b[38;5;28;01mif\u001b[39;00m columns \u001b[38;5;129;01mis\u001b[39;00m \u001b[38;5;129;01mnot\u001b[39;00m \u001b[38;5;28;01mNone\u001b[39;00m:\n\u001b[1;32m    745\u001b[0m         columns \u001b[38;5;241m=\u001b[39m ensure_index(columns)\n\u001b[0;32m--> 746\u001b[0m     arrays, columns, index \u001b[38;5;241m=\u001b[39m \u001b[43mnested_data_to_arrays\u001b[49m\u001b[43m(\u001b[49m\n\u001b[1;32m    747\u001b[0m \u001b[43m        \u001b[49m\u001b[38;5;66;43;03m# error: Argument 3 to \"nested_data_to_arrays\" has incompatible\u001b[39;49;00m\n\u001b[1;32m    748\u001b[0m \u001b[43m        \u001b[49m\u001b[38;5;66;43;03m# type \"Optional[Collection[Any]]\"; expected \"Optional[Index]\"\u001b[39;49;00m\n\u001b[1;32m    749\u001b[0m \u001b[43m        \u001b[49m\u001b[43mdata\u001b[49m\u001b[43m,\u001b[49m\n\u001b[1;32m    750\u001b[0m \u001b[43m        \u001b[49m\u001b[43mcolumns\u001b[49m\u001b[43m,\u001b[49m\n\u001b[1;32m    751\u001b[0m \u001b[43m        \u001b[49m\u001b[43mindex\u001b[49m\u001b[43m,\u001b[49m\u001b[43m  \u001b[49m\u001b[38;5;66;43;03m# type: ignore[arg-type]\u001b[39;49;00m\n\u001b[1;32m    752\u001b[0m \u001b[43m        \u001b[49m\u001b[43mdtype\u001b[49m\u001b[43m,\u001b[49m\n\u001b[1;32m    753\u001b[0m \u001b[43m    \u001b[49m\u001b[43m)\u001b[49m\n\u001b[1;32m    754\u001b[0m     mgr \u001b[38;5;241m=\u001b[39m arrays_to_mgr(\n\u001b[1;32m    755\u001b[0m         arrays,\n\u001b[1;32m    756\u001b[0m         columns,\n\u001b[0;32m   (...)\u001b[0m\n\u001b[1;32m    759\u001b[0m         typ\u001b[38;5;241m=\u001b[39mmanager,\n\u001b[1;32m    760\u001b[0m     )\n\u001b[1;32m    761\u001b[0m \u001b[38;5;28;01melse\u001b[39;00m:\n",
      "File \u001b[0;32m~/miniconda3/envs/sql_dep/lib/python3.9/site-packages/pandas/core/internals/construction.py:510\u001b[0m, in \u001b[0;36mnested_data_to_arrays\u001b[0;34m(data, columns, index, dtype)\u001b[0m\n\u001b[1;32m    507\u001b[0m \u001b[38;5;28;01mif\u001b[39;00m is_named_tuple(data[\u001b[38;5;241m0\u001b[39m]) \u001b[38;5;129;01mand\u001b[39;00m columns \u001b[38;5;129;01mis\u001b[39;00m \u001b[38;5;28;01mNone\u001b[39;00m:\n\u001b[1;32m    508\u001b[0m     columns \u001b[38;5;241m=\u001b[39m ensure_index(data[\u001b[38;5;241m0\u001b[39m]\u001b[38;5;241m.\u001b[39m_fields)\n\u001b[0;32m--> 510\u001b[0m arrays, columns \u001b[38;5;241m=\u001b[39m \u001b[43mto_arrays\u001b[49m\u001b[43m(\u001b[49m\u001b[43mdata\u001b[49m\u001b[43m,\u001b[49m\u001b[43m \u001b[49m\u001b[43mcolumns\u001b[49m\u001b[43m,\u001b[49m\u001b[43m \u001b[49m\u001b[43mdtype\u001b[49m\u001b[38;5;241;43m=\u001b[39;49m\u001b[43mdtype\u001b[49m\u001b[43m)\u001b[49m\n\u001b[1;32m    511\u001b[0m columns \u001b[38;5;241m=\u001b[39m ensure_index(columns)\n\u001b[1;32m    513\u001b[0m \u001b[38;5;28;01mif\u001b[39;00m index \u001b[38;5;129;01mis\u001b[39;00m \u001b[38;5;28;01mNone\u001b[39;00m:\n",
      "File \u001b[0;32m~/miniconda3/envs/sql_dep/lib/python3.9/site-packages/pandas/core/internals/construction.py:875\u001b[0m, in \u001b[0;36mto_arrays\u001b[0;34m(data, columns, dtype)\u001b[0m\n\u001b[1;32m    872\u001b[0m     data \u001b[38;5;241m=\u001b[39m [\u001b[38;5;28mtuple\u001b[39m(x) \u001b[38;5;28;01mfor\u001b[39;00m x \u001b[38;5;129;01min\u001b[39;00m data]\n\u001b[1;32m    873\u001b[0m     arr \u001b[38;5;241m=\u001b[39m _list_to_arrays(data)\n\u001b[0;32m--> 875\u001b[0m content, columns \u001b[38;5;241m=\u001b[39m \u001b[43m_finalize_columns_and_data\u001b[49m\u001b[43m(\u001b[49m\u001b[43marr\u001b[49m\u001b[43m,\u001b[49m\u001b[43m \u001b[49m\u001b[43mcolumns\u001b[49m\u001b[43m,\u001b[49m\u001b[43m \u001b[49m\u001b[43mdtype\u001b[49m\u001b[43m)\u001b[49m\n\u001b[1;32m    876\u001b[0m \u001b[38;5;28;01mreturn\u001b[39;00m content, columns\n",
      "File \u001b[0;32m~/miniconda3/envs/sql_dep/lib/python3.9/site-packages/pandas/core/internals/construction.py:972\u001b[0m, in \u001b[0;36m_finalize_columns_and_data\u001b[0;34m(content, columns, dtype)\u001b[0m\n\u001b[1;32m    969\u001b[0m     columns \u001b[38;5;241m=\u001b[39m _validate_or_indexify_columns(contents, columns)\n\u001b[1;32m    970\u001b[0m \u001b[38;5;28;01mexcept\u001b[39;00m \u001b[38;5;167;01mAssertionError\u001b[39;00m \u001b[38;5;28;01mas\u001b[39;00m err:\n\u001b[1;32m    971\u001b[0m     \u001b[38;5;66;03m# GH#26429 do not raise user-facing AssertionError\u001b[39;00m\n\u001b[0;32m--> 972\u001b[0m     \u001b[38;5;28;01mraise\u001b[39;00m \u001b[38;5;167;01mValueError\u001b[39;00m(err) \u001b[38;5;28;01mfrom\u001b[39;00m \u001b[38;5;21;01merr\u001b[39;00m\n\u001b[1;32m    974\u001b[0m \u001b[38;5;28;01mif\u001b[39;00m \u001b[38;5;28mlen\u001b[39m(contents) \u001b[38;5;129;01mand\u001b[39;00m contents[\u001b[38;5;241m0\u001b[39m]\u001b[38;5;241m.\u001b[39mdtype \u001b[38;5;241m==\u001b[39m np\u001b[38;5;241m.\u001b[39mobject_:\n\u001b[1;32m    975\u001b[0m     contents \u001b[38;5;241m=\u001b[39m _convert_object_array(contents, dtype\u001b[38;5;241m=\u001b[39mdtype)\n",
      "\u001b[0;31mValueError\u001b[0m: 5 columns passed, passed data had 6 columns"
     ]
    }
   ],
   "source": [
    "i=0\n",
    "for csv_file in csv_files:\n",
    "    label_df = pd.read_csv(csv_file, on_bad_lines='skip')\n",
    "    col_name = label_df.columns[label_df.columns.str.contains(pat = 'Source')]\n",
    "    \n",
    "    if col_name == \"Source\":\n",
    "        col_data = label_df[\"Source\"]\n",
    "\n",
    "    else:\n",
    "        col_name = col_name[0]\n",
    "        #print(col_name)\n",
    "        session_labels=label_df[col_name].to_list()\n",
    "        this_file = os.path.basename(csv_file)\n",
    "        print(this_file)\n",
    "        col_name, filtered_info_collective = extract_data_from_Source_col(label_df)\n",
    "        #print(col_name)\n",
    "        \n",
    "        col_name = ['source','label','start_n','end_n', 'remark']\n",
    "        \n",
    "        filtered_data_1= filtered_info_collective[0]\n",
    "        print(len(filtered_data_1))\n",
    "        df_new = pd.DataFrame(filtered_info_collective, columns= col_name)\n",
    "        \n",
    "        #print(filtered_info_collective)\n",
    "    \n",
    "    #print(col_name)\n",
    "    #cols= label_df.columns\n",
    "    #print(cols)"
   ]
  },
  {
   "cell_type": "code",
   "execution_count": 180,
   "id": "c7c86744-0cea-497d-b34b-df64f7ec5d7e",
   "metadata": {},
   "outputs": [
    {
     "name": "stdout",
     "output_type": "stream",
     "text": [
      "Source;label;start_n;end_n;remark \n",
      "Source;Label;Start_n;End_n;Remarks\n",
      "Source;Label;Start_n;End_n;Remarks\n",
      "Source\n",
      "Source;Label;Start_n;End_n;Remarks\n",
      "Source\n",
      "Source;Label;Start_n;End_n;Remarks\n",
      "Source\n",
      "Source\n",
      "Source;Label;Start_n;End_n;Remarks\n",
      "Source;Label;Start_n;End_n;Remarks\n",
      "Source;label ;start_n;end_n;remark\n",
      "Source;Label;Start_n;End_n;Remark\n",
      "Source;Label;Start_n;End_n;Remarks\n",
      "Source;Label;Start_n;End_n;Remarks\n",
      "Source;label;start_n;end_n;remark\n",
      "Source;Label;Start_n;End_n;Remarks\n",
      "Source;label;start_n;end_n;remark\n",
      "Source;label;start_n;end_n;remark\n",
      "Source;Label;Start_n;End_n;Remarks\n",
      "Source;Label;Start_n;End_n;Remarks\n",
      "Source;label;start_n;end_n;remark\n",
      "Source\n",
      "Source;label;start_n;end_n;remark\n",
      "Source;Label;Start_n;End_n;Remarks\n",
      "Source;Label;Start_n;End_n;Remarks\n",
      "Source;label;start_n;end_n;remark\n",
      "Source;label;start_n;end_n;remark \n",
      "Source;label;start_n;end_n;remark\n",
      "Source;;Label;Start_n;End_n;Remarks\n",
      "Source;label ;start_n;end_n;remark\n",
      "Source;label;start_n;end_n;remark\n",
      "Source;label;Start_n;End_n;remark\n",
      "Source;Label;Start:n;End_n;Remarks\n",
      "Source\n",
      "Source\n",
      "Source;label;start_n;end_n;remark\n",
      "Source;label;start_n;end_n;remark\n",
      "Source;Label;Start_n;End_n;Remarks\n",
      "Source;label;start_n;end_n;remark\n",
      "Source;label;start_n;end_n;remark\n",
      "Source;Label;Start_n;End_n;Remarks\n",
      "Source;label;start_n;end_n;remark\n",
      "Source;label;start_n;end_n;remark \n",
      "Source;Label;Start_n;End_n;Remarks\n",
      "Source;Label;Start_n;End_n;Remarks\n",
      "Source;Label;Start_n;End_n;Remarks\n",
      "Source;Label;Start_n;End_n;Remarks\n",
      "Source;label ;start_n;end_n;remark \n",
      "Source;label;start_n;end_n;remark\n",
      "Source;Label;Start_n;End_n;Remarks\n",
      "Source;Label;Start_n;End_n;Remarks\n",
      "Source\n",
      "Source\n",
      "Source;label;start_n;end_n;remark\n",
      "Source\n",
      "Source\n",
      "Source;Label;Start_n;End_n;Remarks\n",
      "Source;label;start_n;end_n;remark \n",
      "Source\n",
      "Source;Label;Start_n;End_n;Remarks\n",
      "Source;label ;start_n;end_n;remark\n",
      "Source;label;start_n;end_n;remark\n",
      "Source;label;start_n;end_n;remark\n",
      "Source;label;start_n;end_n;remark\n",
      "Source;label;start_n ;end_n ;remark \n"
     ]
    }
   ],
   "source": [
    "for csv_file in csv_files:\n",
    "    \n",
    "    label_df = pd.read_csv(csv_file, on_bad_lines='skip')\n",
    "    \n",
    "    data_info = extract_data_from_Source_col(label_df)\n",
    "    \n",
    "    col_name_from_source = data_info[0]\n",
    "    \n",
    "    print(col_name_from_source)\n",
    "    filtered_info = data_info[1]\n",
    "    \n",
    "    #df_out=pd.DataFrame(filtered_info, columns=col_name_from_source)\n",
    "    \n",
    "    #print(df_out)\n",
    "    #col_name = label_df.columns[label_df.columns.str.contains(pat = 'Source')]\n",
    "    \n",
    "    #col_name = col_name[0]\n",
    "    #print(col_name)\n",
    "    \n",
    "    #session_labels=label_df[col_name].to_list()\n",
    "    \n",
    "    \n",
    "    #for single_label in session_labels:\n",
    "    #    single_label = str(single_label)\n",
    "    #    comma_sep = single_label.replace(';', ',')\n",
    "    #    comma_sep_list=comma_sep.split(',')\n",
    "    #    str_list = list(filter(None, comma_sep_list))\n",
    "    #    fileterd_info = [str_eleme.strip() for str_eleme in str_list]\n",
    "        \n",
    "    #    print(fileterd_info)\n",
    "    #print(list(col_name))\n",
    "    \n",
    "    #selected_col_data = label_df[col_name]   \n",
    "    #print(selected_col_data)\n",
    "    \n",
    "    \n",
    "    \n",
    "    #if 'Source;label;start_n;end_n;remark ' in label_df.columns:\n",
    "        #print(label_df[\"Source;label;start_n;end_n;remark \"]\n",
    "    #print(('Source;label;start_n;end_n;remark ' or 'Source;label;start_n;end_n;remark' in label_df.columns))\n",
    "    #print(label_df.columns)\n",
    "    "
   ]
  },
  {
   "cell_type": "code",
   "execution_count": 149,
   "id": "b12666a7-39ae-48d3-a4c1-8cb60d87c3fe",
   "metadata": {},
   "outputs": [
    {
     "data": {
      "text/plain": [
       "'Source;label;start_n ;end_n ;remark '"
      ]
     },
     "execution_count": 149,
     "metadata": {},
     "output_type": "execute_result"
    }
   ],
   "source": [
    "col_name_from_source"
   ]
  },
  {
   "cell_type": "code",
   "execution_count": null,
   "id": "f5b2bab8-ea02-48da-b39b-f5e9ec577982",
   "metadata": {},
   "outputs": [],
   "source": []
  },
  {
   "cell_type": "code",
   "execution_count": 120,
   "id": "e42dedfa-ed9d-4929-979d-4ee87592236e",
   "metadata": {},
   "outputs": [],
   "source": [
    "label_df = pd.read_csv(csv_file, on_bad_lines='skip')"
   ]
  },
  {
   "cell_type": "code",
   "execution_count": 133,
   "id": "65e61278-1bc9-4e5b-a298-7c8beb310c48",
   "metadata": {},
   "outputs": [
    {
     "data": {
      "text/plain": [
       "Index(['IDType', 'Start', 'End', 'Source;label;start_n ;end_n ;remark '], dtype='object')"
      ]
     },
     "execution_count": 133,
     "metadata": {},
     "output_type": "execute_result"
    }
   ],
   "source": [
    "label_df.columns"
   ]
  },
  {
   "cell_type": "code",
   "execution_count": 134,
   "id": "374fc47e-bbeb-4b21-9a78-8959a05e0dea",
   "metadata": {},
   "outputs": [],
   "source": [
    "new_df=label_df[['IDType', 'Start', 'End']]"
   ]
  },
  {
   "cell_type": "code",
   "execution_count": 136,
   "id": "96106a36-114e-41fe-8a77-e06f82dc0739",
   "metadata": {},
   "outputs": [
    {
     "data": {
      "text/plain": [
       "RangeIndex(start=0, stop=7, step=1)"
      ]
     },
     "execution_count": 136,
     "metadata": {},
     "output_type": "execute_result"
    }
   ],
   "source": []
  },
  {
   "cell_type": "code",
   "execution_count": 117,
   "id": "972d7a73-5c12-48bc-9149-a07cd2492797",
   "metadata": {},
   "outputs": [
    {
     "data": {
      "text/plain": [
       "['Both', '0', 'incorrect label']"
      ]
     },
     "execution_count": 117,
     "metadata": {},
     "output_type": "execute_result"
    }
   ],
   "source": [
    "fileterd_info\n"
   ]
  },
  {
   "cell_type": "code",
   "execution_count": 116,
   "id": "3d0dbdaf-7789-45a4-bb85-b90e93766d2e",
   "metadata": {},
   "outputs": [
    {
     "data": {
      "text/plain": [
       "'Source;label;start_n ;end_n ;remark '"
      ]
     },
     "execution_count": 116,
     "metadata": {},
     "output_type": "execute_result"
    }
   ],
   "source": [
    "col_name"
   ]
  },
  {
   "cell_type": "code",
   "execution_count": 59,
   "id": "14e9846d-9a2d-4360-b52f-0a907b1d20ab",
   "metadata": {},
   "outputs": [],
   "source": [
    "#filtered_info = splitted_info.remove('')"
   ]
  },
  {
   "cell_type": "code",
   "execution_count": null,
   "id": "a4bc164d-227c-48e5-9520-d76c49564493",
   "metadata": {},
   "outputs": [],
   "source": []
  },
  {
   "cell_type": "code",
   "execution_count": null,
   "id": "e3ef6d04-b8f5-4a9c-b9e8-884510b349aa",
   "metadata": {},
   "outputs": [],
   "source": [
    "csv_file_names = []\n",
    "total_labels_sessions = []\n",
    "incorrect_label_sessions = []\n",
    "incorrect_percentage_sessions = []\n",
    "manual_flags = []\n",
    "\n",
    "for csv_file in csv_files:\n",
    "    #label_df= pd.read_csv(csv_file)\n",
    "    #print(csv_file)\n",
    "    label_df= pd.read_csv(csv_file, on_bad_lines='skip')\n",
    "    this_file = os.path.basename(csv_file)\n",
    "    #print(csv_file)\n",
    "    i =0\n",
    "    for col in label_df.columns:\n",
    "        if col.startswith(\"Source\"):\n",
    "            #print(col)\n",
    "            session_labels=label_df[col].to_list()\n",
    "            \n",
    "            #print(session_labels)\n",
    "            \n",
    "            total_labels = len(session_labels)\n",
    "            \n",
    "            for single_label in session_labels:\n",
    "                \n",
    "                single_label=str(single_label)\n",
    "                \n",
    "                splitted_info = single_label.split(';')\n",
    "                \n",
    "                #if \"Both\" and \"incorrect label\" in splitted_info:\n",
    "                if (\"incorrect label\" or \"incorrect label \") in splitted_info:\n",
    "                    i=i+1\n",
    "                    \n",
    "                #elif (\"face not visible\") in splitted_info:\n",
    "                    #print(\"face_not_detected\")\n",
    "                    \n",
    "                            \n",
    "            print(csv_file)      \n",
    "            incorrect_percentage=(i/total_labels)*100\n",
    "            if incorrect_percentage < 50:\n",
    "                manual_flag = 'true'\n",
    "            else:\n",
    "                manual_flag = 'false'\n",
    "                \n",
    "                \n",
    "    csv_file_names.append(this_file)\n",
    "    total_labels_sessions.append(total_labels)\n",
    "    incorrect_label_sessions.append(i)\n",
    "    incorrect_percentage_sessions.append(incorrect_percentage)\n",
    "    manual_flags.append(manual_flag)\n",
    "    \n",
    "\n",
    "                \n",
    "labeling_info = {'file_name': csv_file_names, \"total_labels\": total_labels_sessions, 'incorrect_labels': incorrect_label_sessions, 'incorrect_percentage': incorrect_percentage_sessions, 'check_manually': manual_flags}        \n",
    "                    \n"
   ]
  },
  {
   "cell_type": "code",
   "execution_count": 104,
   "id": "31ce4c3f-022f-4ead-afa9-0d39bb994946",
   "metadata": {},
   "outputs": [],
   "source": [
    "labeling_info_df = pd.DataFrame.from_dict(labeling_info)"
   ]
  },
  {
   "cell_type": "code",
   "execution_count": 105,
   "id": "d00751df-75e2-4b49-bae4-645dc9d7033d",
   "metadata": {},
   "outputs": [
    {
     "data": {
      "text/html": [
       "<div>\n",
       "<style scoped>\n",
       "    .dataframe tbody tr th:only-of-type {\n",
       "        vertical-align: middle;\n",
       "    }\n",
       "\n",
       "    .dataframe tbody tr th {\n",
       "        vertical-align: top;\n",
       "    }\n",
       "\n",
       "    .dataframe thead th {\n",
       "        text-align: right;\n",
       "    }\n",
       "</style>\n",
       "<table border=\"1\" class=\"dataframe\">\n",
       "  <thead>\n",
       "    <tr style=\"text-align: right;\">\n",
       "      <th></th>\n",
       "      <th>file_name</th>\n",
       "      <th>total_labels</th>\n",
       "      <th>incorrect_labels</th>\n",
       "      <th>incorrect_percentage</th>\n",
       "      <th>check_manually</th>\n",
       "    </tr>\n",
       "  </thead>\n",
       "  <tbody>\n",
       "    <tr>\n",
       "      <th>0</th>\n",
       "      <td>FR_ESE_23_140119_1000_nutrition_EmoVideoAnnota...</td>\n",
       "      <td>3</td>\n",
       "      <td>3</td>\n",
       "      <td>100.000000</td>\n",
       "      <td>false</td>\n",
       "    </tr>\n",
       "    <tr>\n",
       "      <th>1</th>\n",
       "      <td>FR_ESE_11_301018_1500_nutrition_EmoVideoAnnota...</td>\n",
       "      <td>6</td>\n",
       "      <td>5</td>\n",
       "      <td>83.333333</td>\n",
       "      <td>false</td>\n",
       "    </tr>\n",
       "    <tr>\n",
       "      <th>2</th>\n",
       "      <td>FR_ESE_12_311018_1500_generic_EmoVideoAnnotati...</td>\n",
       "      <td>6</td>\n",
       "      <td>5</td>\n",
       "      <td>83.333333</td>\n",
       "      <td>false</td>\n",
       "    </tr>\n",
       "    <tr>\n",
       "      <th>3</th>\n",
       "      <td>FR_ESE_16_211118_1400_generic_EmoVideoAnnotati...</td>\n",
       "      <td>48</td>\n",
       "      <td>23</td>\n",
       "      <td>47.916667</td>\n",
       "      <td>true</td>\n",
       "    </tr>\n",
       "    <tr>\n",
       "      <th>4</th>\n",
       "      <td>FR_ESE_07_221018_1400_generic_EmoVideoAnnotati...</td>\n",
       "      <td>19</td>\n",
       "      <td>19</td>\n",
       "      <td>100.000000</td>\n",
       "      <td>false</td>\n",
       "    </tr>\n",
       "    <tr>\n",
       "      <th>...</th>\n",
       "      <td>...</td>\n",
       "      <td>...</td>\n",
       "      <td>...</td>\n",
       "      <td>...</td>\n",
       "      <td>...</td>\n",
       "    </tr>\n",
       "    <tr>\n",
       "      <th>61</th>\n",
       "      <td>FR_ESE_17_261118_1000_nutrition_EmoVideoAnnota...</td>\n",
       "      <td>11</td>\n",
       "      <td>11</td>\n",
       "      <td>100.000000</td>\n",
       "      <td>false</td>\n",
       "    </tr>\n",
       "    <tr>\n",
       "      <th>62</th>\n",
       "      <td>FR_ESE_14_191118_1400_generic_EmoVideoAnnotati...</td>\n",
       "      <td>3</td>\n",
       "      <td>2</td>\n",
       "      <td>66.666667</td>\n",
       "      <td>false</td>\n",
       "    </tr>\n",
       "    <tr>\n",
       "      <th>63</th>\n",
       "      <td>FR_ESE_29_171218_1600_generic_EmoVideoAnnotati...</td>\n",
       "      <td>21</td>\n",
       "      <td>21</td>\n",
       "      <td>100.000000</td>\n",
       "      <td>false</td>\n",
       "    </tr>\n",
       "    <tr>\n",
       "      <th>64</th>\n",
       "      <td>FR_TUN_01_010219_1400_nutrition_EmoVideoAnnota...</td>\n",
       "      <td>4</td>\n",
       "      <td>0</td>\n",
       "      <td>0.000000</td>\n",
       "      <td>true</td>\n",
       "    </tr>\n",
       "    <tr>\n",
       "      <th>65</th>\n",
       "      <td>FR_ESE_15_160119_1100_nutrition_EmoVideoAnnota...</td>\n",
       "      <td>7</td>\n",
       "      <td>0</td>\n",
       "      <td>0.000000</td>\n",
       "      <td>true</td>\n",
       "    </tr>\n",
       "  </tbody>\n",
       "</table>\n",
       "<p>66 rows × 5 columns</p>\n",
       "</div>"
      ],
      "text/plain": [
       "                                            file_name  total_labels  \\\n",
       "0   FR_ESE_23_140119_1000_nutrition_EmoVideoAnnota...             3   \n",
       "1   FR_ESE_11_301018_1500_nutrition_EmoVideoAnnota...             6   \n",
       "2   FR_ESE_12_311018_1500_generic_EmoVideoAnnotati...             6   \n",
       "3   FR_ESE_16_211118_1400_generic_EmoVideoAnnotati...            48   \n",
       "4   FR_ESE_07_221018_1400_generic_EmoVideoAnnotati...            19   \n",
       "..                                                ...           ...   \n",
       "61  FR_ESE_17_261118_1000_nutrition_EmoVideoAnnota...            11   \n",
       "62  FR_ESE_14_191118_1400_generic_EmoVideoAnnotati...             3   \n",
       "63  FR_ESE_29_171218_1600_generic_EmoVideoAnnotati...            21   \n",
       "64  FR_TUN_01_010219_1400_nutrition_EmoVideoAnnota...             4   \n",
       "65  FR_ESE_15_160119_1100_nutrition_EmoVideoAnnota...             7   \n",
       "\n",
       "    incorrect_labels  incorrect_percentage check_manually  \n",
       "0                  3            100.000000          false  \n",
       "1                  5             83.333333          false  \n",
       "2                  5             83.333333          false  \n",
       "3                 23             47.916667           true  \n",
       "4                 19            100.000000          false  \n",
       "..               ...                   ...            ...  \n",
       "61                11            100.000000          false  \n",
       "62                 2             66.666667          false  \n",
       "63                21            100.000000          false  \n",
       "64                 0              0.000000           true  \n",
       "65                 0              0.000000           true  \n",
       "\n",
       "[66 rows x 5 columns]"
      ]
     },
     "execution_count": 105,
     "metadata": {},
     "output_type": "execute_result"
    }
   ],
   "source": [
    "labeling_info_df"
   ]
  },
  {
   "cell_type": "code",
   "execution_count": 107,
   "id": "3c7ac856-49c2-474a-b16e-c8c829f63d86",
   "metadata": {},
   "outputs": [],
   "source": [
    "labeling_info_df.to_csv(\"evita_french_data_annotation_quality_check.csv\")"
   ]
  },
  {
   "cell_type": "code",
   "execution_count": 88,
   "id": "feb3296e-e1b0-4f5e-b12f-e3950a8e1b2b",
   "metadata": {},
   "outputs": [],
   "source": [
    "label_df = pd.read_csv(path,  on_bad_lines='skip')"
   ]
  },
  {
   "cell_type": "code",
   "execution_count": 89,
   "id": "6e299bfe-726d-4eb7-9606-4ae09b4cb6cf",
   "metadata": {},
   "outputs": [
    {
     "data": {
      "text/html": [
       "<div>\n",
       "<style scoped>\n",
       "    .dataframe tbody tr th:only-of-type {\n",
       "        vertical-align: middle;\n",
       "    }\n",
       "\n",
       "    .dataframe tbody tr th {\n",
       "        vertical-align: top;\n",
       "    }\n",
       "\n",
       "    .dataframe thead th {\n",
       "        text-align: right;\n",
       "    }\n",
       "</style>\n",
       "<table border=\"1\" class=\"dataframe\">\n",
       "  <thead>\n",
       "    <tr style=\"text-align: right;\">\n",
       "      <th></th>\n",
       "      <th>IDType</th>\n",
       "      <th>Start</th>\n",
       "      <th>End</th>\n",
       "      <th>Source;label;start_n;end_n;remark</th>\n",
       "    </tr>\n",
       "  </thead>\n",
       "  <tbody>\n",
       "    <tr>\n",
       "      <th>0</th>\n",
       "      <td>3</td>\n",
       "      <td>1670</td>\n",
       "      <td>11219</td>\n",
       "      <td>Both;4;;;\"incorrect label; hands cover the fac...</td>\n",
       "    </tr>\n",
       "    <tr>\n",
       "      <th>1</th>\n",
       "      <td>3</td>\n",
       "      <td>109090</td>\n",
       "      <td>112134</td>\n",
       "      <td>Both;4;;;incorrect label</td>\n",
       "    </tr>\n",
       "    <tr>\n",
       "      <th>2</th>\n",
       "      <td>4</td>\n",
       "      <td>482936</td>\n",
       "      <td>487337</td>\n",
       "      <td>Both;4;;;talking to another person</td>\n",
       "    </tr>\n",
       "    <tr>\n",
       "      <th>3</th>\n",
       "      <td>3</td>\n",
       "      <td>494086</td>\n",
       "      <td>503872</td>\n",
       "      <td>Both;0;;;\"incorrect label; talking to another ...</td>\n",
       "    </tr>\n",
       "    <tr>\n",
       "      <th>4</th>\n",
       "      <td>3</td>\n",
       "      <td>54229</td>\n",
       "      <td>55822</td>\n",
       "      <td>Annotator 2;0;;;incorrect label</td>\n",
       "    </tr>\n",
       "  </tbody>\n",
       "</table>\n",
       "</div>"
      ],
      "text/plain": [
       "   IDType   Start     End                  Source;label;start_n;end_n;remark\n",
       "0       3    1670   11219  Both;4;;;\"incorrect label; hands cover the fac...\n",
       "1       3  109090  112134                           Both;4;;;incorrect label\n",
       "2       4  482936  487337                 Both;4;;;talking to another person\n",
       "3       3  494086  503872  Both;0;;;\"incorrect label; talking to another ...\n",
       "4       3   54229   55822                    Annotator 2;0;;;incorrect label"
      ]
     },
     "execution_count": 89,
     "metadata": {},
     "output_type": "execute_result"
    }
   ],
   "source": [
    "label_df"
   ]
  },
  {
   "cell_type": "code",
   "execution_count": 74,
   "id": "593e8c52-0207-482d-9f59-7f3f359a6bce",
   "metadata": {},
   "outputs": [
    {
     "name": "stdout",
     "output_type": "stream",
     "text": [
      "['Both', '0', '', '', 'incorrect label ']\n",
      "['Both', '5', '', '', 'incorrect label ']\n",
      "['Both', '1', '', '', 'incorrect label ']\n",
      "['Both', '5', '', '', 'incorrect label ']\n",
      "['Both', '0', '', '', 'incorrect label ']\n",
      "['Both', '5', '', '', '\"incorrect label', ' talking to another person \"']\n",
      "['Both', '0', '', '', 'incorrect label ']\n",
      "/home/muhammad/Desktop/Datasets/dataset_evaluation_EVITA/labeled/FR_ESE_15_160119_1100_nutrition_EmoVideoAnnotation_master.csv\n",
      "0.8571428571428571\n"
     ]
    }
   ],
   "source": [
    "i =0\n",
    "for col in label_df.columns:\n",
    "    if col.startswith(\"Source\"):\n",
    "            #print(col)\n",
    "        session_labels=label_df[col].to_list()\n",
    "            \n",
    "            #print(session_labels)\n",
    "            \n",
    "        total_labels = len(session_labels)\n",
    "            \n",
    "        for single_label in session_labels:\n",
    "                \n",
    "            single_label=str(single_label)\n",
    "                \n",
    "            splitted_info = single_label.split(';')\n",
    "            \n",
    "            print(splitted_info)\n",
    "                \n",
    "            #if \"Both\" and \"incorrect label\" in splitted_info:\n",
    "            if (\"incorrect label \" or \"incorrect label\" )in splitted_info:\n",
    "                i=i+1\n",
    "                    \n",
    "                    \n",
    "        print(csv_file)        \n",
    "        print(i/total_labels)\n",
    "                    "
   ]
  },
  {
   "cell_type": "code",
   "execution_count": null,
   "id": "c11cdfe9-63f8-405d-8877-b11e6c3164f4",
   "metadata": {},
   "outputs": [],
   "source": []
  },
  {
   "cell_type": "code",
   "execution_count": null,
   "id": "5b0ff3c2-99cb-412b-9784-9a765f9ab7ea",
   "metadata": {},
   "outputs": [],
   "source": [
    " \n",
    "        \n",
    "        \n",
    "        \n",
    "        \n",
    "    ###-------------------------------\n",
    "    #if \"remark\" in label_df.columns:\n",
    "    #ä    print('yes')\n",
    "    #else:\n",
    "    #    print('no')\n",
    "        \n",
    "        #session_labels= label_df[\"Source;Label;Start_n;End_n;Remark\"].to_list()\n",
    "        #total_labels = len(session_labels)\n",
    "        #i = 0\n",
    "\n",
    "        #for single_label in session_labels:\n",
    "         #   splitted_info = single_label.split(';')\n",
    "         #   if \"Both\" and \"incorrect label\" in splitted_info:\n",
    "          #      i=i+1\n",
    "                #print(i)\n",
    "            #else:\n",
    "             #   print('correct_label')\n",
    "\n",
    "        #wrongly_classified_percentage = i/total_labes\n",
    "        #print(wrongly_classified_percentage)\n",
    "        \n",
    "\n",
    "\n",
    "        \n",
    "        \n",
    "    "
   ]
  },
  {
   "cell_type": "code",
   "execution_count": null,
   "id": "05823cc5-2678-43a2-aa7f-5c966b21a45f",
   "metadata": {},
   "outputs": [],
   "source": []
  },
  {
   "cell_type": "code",
   "execution_count": null,
   "id": "acd4281f-24f9-44e1-8aa1-0daf2a2f62b5",
   "metadata": {},
   "outputs": [],
   "source": []
  },
  {
   "cell_type": "code",
   "execution_count": null,
   "id": "fc89fc0c-19a5-47d4-ad09-cbd5ca222fe9",
   "metadata": {},
   "outputs": [],
   "source": [
    "\n"
   ]
  },
  {
   "cell_type": "code",
   "execution_count": null,
   "id": "379918f8-8cd9-4fbf-9769-b0a1f24728e9",
   "metadata": {},
   "outputs": [],
   "source": []
  },
  {
   "cell_type": "code",
   "execution_count": null,
   "id": "4798bb39-e4f4-4873-9b4a-70087f51af09",
   "metadata": {},
   "outputs": [],
   "source": []
  },
  {
   "cell_type": "code",
   "execution_count": null,
   "id": "a0fab8a3-87a8-47e6-b18d-7d3809aaec8e",
   "metadata": {},
   "outputs": [],
   "source": []
  }
 ],
 "metadata": {
  "kernelspec": {
   "display_name": "Python 3 (ipykernel)",
   "language": "python",
   "name": "python3"
  },
  "language_info": {
   "codemirror_mode": {
    "name": "ipython",
    "version": 3
   },
   "file_extension": ".py",
   "mimetype": "text/x-python",
   "name": "python",
   "nbconvert_exporter": "python",
   "pygments_lexer": "ipython3",
   "version": "3.9.16"
  }
 },
 "nbformat": 4,
 "nbformat_minor": 5
}
