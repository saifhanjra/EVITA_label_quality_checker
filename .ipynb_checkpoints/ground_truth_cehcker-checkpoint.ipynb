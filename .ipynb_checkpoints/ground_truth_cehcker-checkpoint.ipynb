{
 "cells": [
  {
   "cell_type": "code",
   "execution_count": 176,
   "id": "2e48bf26-2731-4e8b-8842-a4cd67d9383d",
   "metadata": {},
   "outputs": [],
   "source": [
    "import pandas as pd\n",
    "import numpy as np\n",
    "import os\n",
    "import glob\n",
    "from pathlib import Path"
   ]
  },
  {
   "cell_type": "code",
   "execution_count": 177,
   "id": "d1ec7fff-d882-438f-a7c3-947b19f6480b",
   "metadata": {},
   "outputs": [],
   "source": [
    "csv_files = glob.glob(\"/home/muhammad/Desktop/Datasets/dataset_evaluation_EVITA/labeled/*.csv\")\n",
    "#csv_files = \"/home/muhammad/Desktop/Datasets/dataset_evaluation_EVITA/labeled/FR_ESE_20_041218_1400_generic_EmoVideoAnnotation_master.csv\""
   ]
  },
  {
   "cell_type": "code",
   "execution_count": 178,
   "id": "4bf6cd09-f374-4db4-9336-e4975e9aa7b0",
   "metadata": {},
   "outputs": [],
   "source": [
    "def extract_data_from_Source_col(label_df):\n",
    "    filtered_info_collective = []\n",
    "    col_name = label_df.columns[label_df.columns.str.contains(pat = 'Source')]\n",
    "    col_name = col_name[0]\n",
    "    session_labels=label_df[col_name].to_list()\n",
    "    for single_label in session_labels:\n",
    "        single_label = str(single_label)\n",
    "        comma_sep = single_label.replace(';', ',')\n",
    "        comma_sep_list=comma_sep.split(',')\n",
    "        str_list = list(filter(None, comma_sep_list))\n",
    "        fileterd_info = [str_eleme.strip() for str_eleme in str_list]\n",
    "        \n",
    "        filtered_info_collective.append(fileterd_info)\n",
    "        \n",
    "        #print(fileterd_info)\n",
    "        \n",
    "    return (col_name, filtered_info_collective)\n",
    "    \n",
    "    \n",
    "    "
   ]
  },
  {
   "cell_type": "code",
   "execution_count": null,
   "id": "7ff78b7d-85e2-4282-b98e-b3bbca1a8826",
   "metadata": {},
   "outputs": [],
   "source": []
  },
  {
   "cell_type": "code",
   "execution_count": 152,
   "id": "c7c86744-0cea-497d-b34b-df64f7ec5d7e",
   "metadata": {},
   "outputs": [
    {
     "ename": "IsADirectoryError",
     "evalue": "[Errno 21] Is a directory: '/'",
     "output_type": "error",
     "traceback": [
      "\u001b[0;31m---------------------------------------------------------------------------\u001b[0m",
      "\u001b[0;31mIsADirectoryError\u001b[0m                         Traceback (most recent call last)",
      "Cell \u001b[0;32mIn[173], line 3\u001b[0m\n\u001b[1;32m      1\u001b[0m \u001b[38;5;28;01mfor\u001b[39;00m csv_file \u001b[38;5;129;01min\u001b[39;00m csv_files:\n\u001b[0;32m----> 3\u001b[0m     label_df \u001b[38;5;241m=\u001b[39m \u001b[43mpd\u001b[49m\u001b[38;5;241;43m.\u001b[39;49m\u001b[43mread_csv\u001b[49m\u001b[43m(\u001b[49m\u001b[43mcsv_file\u001b[49m\u001b[43m,\u001b[49m\u001b[43m \u001b[49m\u001b[43mon_bad_lines\u001b[49m\u001b[38;5;241;43m=\u001b[39;49m\u001b[38;5;124;43m'\u001b[39;49m\u001b[38;5;124;43mskip\u001b[39;49m\u001b[38;5;124;43m'\u001b[39;49m\u001b[43m)\u001b[49m\n\u001b[1;32m      5\u001b[0m     data_info \u001b[38;5;241m=\u001b[39m extract_data_from_Source_col(label_df)\n\u001b[1;32m      7\u001b[0m     col_name_from_source \u001b[38;5;241m=\u001b[39m data_info[\u001b[38;5;241m0\u001b[39m]\n",
      "File \u001b[0;32m~/miniconda3/envs/sql_dep/lib/python3.9/site-packages/pandas/util/_decorators.py:211\u001b[0m, in \u001b[0;36mdeprecate_kwarg.<locals>._deprecate_kwarg.<locals>.wrapper\u001b[0;34m(*args, **kwargs)\u001b[0m\n\u001b[1;32m    209\u001b[0m     \u001b[38;5;28;01melse\u001b[39;00m:\n\u001b[1;32m    210\u001b[0m         kwargs[new_arg_name] \u001b[38;5;241m=\u001b[39m new_arg_value\n\u001b[0;32m--> 211\u001b[0m \u001b[38;5;28;01mreturn\u001b[39;00m \u001b[43mfunc\u001b[49m\u001b[43m(\u001b[49m\u001b[38;5;241;43m*\u001b[39;49m\u001b[43margs\u001b[49m\u001b[43m,\u001b[49m\u001b[43m \u001b[49m\u001b[38;5;241;43m*\u001b[39;49m\u001b[38;5;241;43m*\u001b[39;49m\u001b[43mkwargs\u001b[49m\u001b[43m)\u001b[49m\n",
      "File \u001b[0;32m~/miniconda3/envs/sql_dep/lib/python3.9/site-packages/pandas/util/_decorators.py:331\u001b[0m, in \u001b[0;36mdeprecate_nonkeyword_arguments.<locals>.decorate.<locals>.wrapper\u001b[0;34m(*args, **kwargs)\u001b[0m\n\u001b[1;32m    325\u001b[0m \u001b[38;5;28;01mif\u001b[39;00m \u001b[38;5;28mlen\u001b[39m(args) \u001b[38;5;241m>\u001b[39m num_allow_args:\n\u001b[1;32m    326\u001b[0m     warnings\u001b[38;5;241m.\u001b[39mwarn(\n\u001b[1;32m    327\u001b[0m         msg\u001b[38;5;241m.\u001b[39mformat(arguments\u001b[38;5;241m=\u001b[39m_format_argument_list(allow_args)),\n\u001b[1;32m    328\u001b[0m         \u001b[38;5;167;01mFutureWarning\u001b[39;00m,\n\u001b[1;32m    329\u001b[0m         stacklevel\u001b[38;5;241m=\u001b[39mfind_stack_level(),\n\u001b[1;32m    330\u001b[0m     )\n\u001b[0;32m--> 331\u001b[0m \u001b[38;5;28;01mreturn\u001b[39;00m \u001b[43mfunc\u001b[49m\u001b[43m(\u001b[49m\u001b[38;5;241;43m*\u001b[39;49m\u001b[43margs\u001b[49m\u001b[43m,\u001b[49m\u001b[43m \u001b[49m\u001b[38;5;241;43m*\u001b[39;49m\u001b[38;5;241;43m*\u001b[39;49m\u001b[43mkwargs\u001b[49m\u001b[43m)\u001b[49m\n",
      "File \u001b[0;32m~/miniconda3/envs/sql_dep/lib/python3.9/site-packages/pandas/io/parsers/readers.py:950\u001b[0m, in \u001b[0;36mread_csv\u001b[0;34m(filepath_or_buffer, sep, delimiter, header, names, index_col, usecols, squeeze, prefix, mangle_dupe_cols, dtype, engine, converters, true_values, false_values, skipinitialspace, skiprows, skipfooter, nrows, na_values, keep_default_na, na_filter, verbose, skip_blank_lines, parse_dates, infer_datetime_format, keep_date_col, date_parser, dayfirst, cache_dates, iterator, chunksize, compression, thousands, decimal, lineterminator, quotechar, quoting, doublequote, escapechar, comment, encoding, encoding_errors, dialect, error_bad_lines, warn_bad_lines, on_bad_lines, delim_whitespace, low_memory, memory_map, float_precision, storage_options)\u001b[0m\n\u001b[1;32m    935\u001b[0m kwds_defaults \u001b[38;5;241m=\u001b[39m _refine_defaults_read(\n\u001b[1;32m    936\u001b[0m     dialect,\n\u001b[1;32m    937\u001b[0m     delimiter,\n\u001b[0;32m   (...)\u001b[0m\n\u001b[1;32m    946\u001b[0m     defaults\u001b[38;5;241m=\u001b[39m{\u001b[38;5;124m\"\u001b[39m\u001b[38;5;124mdelimiter\u001b[39m\u001b[38;5;124m\"\u001b[39m: \u001b[38;5;124m\"\u001b[39m\u001b[38;5;124m,\u001b[39m\u001b[38;5;124m\"\u001b[39m},\n\u001b[1;32m    947\u001b[0m )\n\u001b[1;32m    948\u001b[0m kwds\u001b[38;5;241m.\u001b[39mupdate(kwds_defaults)\n\u001b[0;32m--> 950\u001b[0m \u001b[38;5;28;01mreturn\u001b[39;00m \u001b[43m_read\u001b[49m\u001b[43m(\u001b[49m\u001b[43mfilepath_or_buffer\u001b[49m\u001b[43m,\u001b[49m\u001b[43m \u001b[49m\u001b[43mkwds\u001b[49m\u001b[43m)\u001b[49m\n",
      "File \u001b[0;32m~/miniconda3/envs/sql_dep/lib/python3.9/site-packages/pandas/io/parsers/readers.py:605\u001b[0m, in \u001b[0;36m_read\u001b[0;34m(filepath_or_buffer, kwds)\u001b[0m\n\u001b[1;32m    602\u001b[0m _validate_names(kwds\u001b[38;5;241m.\u001b[39mget(\u001b[38;5;124m\"\u001b[39m\u001b[38;5;124mnames\u001b[39m\u001b[38;5;124m\"\u001b[39m, \u001b[38;5;28;01mNone\u001b[39;00m))\n\u001b[1;32m    604\u001b[0m \u001b[38;5;66;03m# Create the parser.\u001b[39;00m\n\u001b[0;32m--> 605\u001b[0m parser \u001b[38;5;241m=\u001b[39m \u001b[43mTextFileReader\u001b[49m\u001b[43m(\u001b[49m\u001b[43mfilepath_or_buffer\u001b[49m\u001b[43m,\u001b[49m\u001b[43m \u001b[49m\u001b[38;5;241;43m*\u001b[39;49m\u001b[38;5;241;43m*\u001b[39;49m\u001b[43mkwds\u001b[49m\u001b[43m)\u001b[49m\n\u001b[1;32m    607\u001b[0m \u001b[38;5;28;01mif\u001b[39;00m chunksize \u001b[38;5;129;01mor\u001b[39;00m iterator:\n\u001b[1;32m    608\u001b[0m     \u001b[38;5;28;01mreturn\u001b[39;00m parser\n",
      "File \u001b[0;32m~/miniconda3/envs/sql_dep/lib/python3.9/site-packages/pandas/io/parsers/readers.py:1442\u001b[0m, in \u001b[0;36mTextFileReader.__init__\u001b[0;34m(self, f, engine, **kwds)\u001b[0m\n\u001b[1;32m   1439\u001b[0m     \u001b[38;5;28mself\u001b[39m\u001b[38;5;241m.\u001b[39moptions[\u001b[38;5;124m\"\u001b[39m\u001b[38;5;124mhas_index_names\u001b[39m\u001b[38;5;124m\"\u001b[39m] \u001b[38;5;241m=\u001b[39m kwds[\u001b[38;5;124m\"\u001b[39m\u001b[38;5;124mhas_index_names\u001b[39m\u001b[38;5;124m\"\u001b[39m]\n\u001b[1;32m   1441\u001b[0m \u001b[38;5;28mself\u001b[39m\u001b[38;5;241m.\u001b[39mhandles: IOHandles \u001b[38;5;241m|\u001b[39m \u001b[38;5;28;01mNone\u001b[39;00m \u001b[38;5;241m=\u001b[39m \u001b[38;5;28;01mNone\u001b[39;00m\n\u001b[0;32m-> 1442\u001b[0m \u001b[38;5;28mself\u001b[39m\u001b[38;5;241m.\u001b[39m_engine \u001b[38;5;241m=\u001b[39m \u001b[38;5;28;43mself\u001b[39;49m\u001b[38;5;241;43m.\u001b[39;49m\u001b[43m_make_engine\u001b[49m\u001b[43m(\u001b[49m\u001b[43mf\u001b[49m\u001b[43m,\u001b[49m\u001b[43m \u001b[49m\u001b[38;5;28;43mself\u001b[39;49m\u001b[38;5;241;43m.\u001b[39;49m\u001b[43mengine\u001b[49m\u001b[43m)\u001b[49m\n",
      "File \u001b[0;32m~/miniconda3/envs/sql_dep/lib/python3.9/site-packages/pandas/io/parsers/readers.py:1735\u001b[0m, in \u001b[0;36mTextFileReader._make_engine\u001b[0;34m(self, f, engine)\u001b[0m\n\u001b[1;32m   1733\u001b[0m     \u001b[38;5;28;01mif\u001b[39;00m \u001b[38;5;124m\"\u001b[39m\u001b[38;5;124mb\u001b[39m\u001b[38;5;124m\"\u001b[39m \u001b[38;5;129;01mnot\u001b[39;00m \u001b[38;5;129;01min\u001b[39;00m mode:\n\u001b[1;32m   1734\u001b[0m         mode \u001b[38;5;241m+\u001b[39m\u001b[38;5;241m=\u001b[39m \u001b[38;5;124m\"\u001b[39m\u001b[38;5;124mb\u001b[39m\u001b[38;5;124m\"\u001b[39m\n\u001b[0;32m-> 1735\u001b[0m \u001b[38;5;28mself\u001b[39m\u001b[38;5;241m.\u001b[39mhandles \u001b[38;5;241m=\u001b[39m \u001b[43mget_handle\u001b[49m\u001b[43m(\u001b[49m\n\u001b[1;32m   1736\u001b[0m \u001b[43m    \u001b[49m\u001b[43mf\u001b[49m\u001b[43m,\u001b[49m\n\u001b[1;32m   1737\u001b[0m \u001b[43m    \u001b[49m\u001b[43mmode\u001b[49m\u001b[43m,\u001b[49m\n\u001b[1;32m   1738\u001b[0m \u001b[43m    \u001b[49m\u001b[43mencoding\u001b[49m\u001b[38;5;241;43m=\u001b[39;49m\u001b[38;5;28;43mself\u001b[39;49m\u001b[38;5;241;43m.\u001b[39;49m\u001b[43moptions\u001b[49m\u001b[38;5;241;43m.\u001b[39;49m\u001b[43mget\u001b[49m\u001b[43m(\u001b[49m\u001b[38;5;124;43m\"\u001b[39;49m\u001b[38;5;124;43mencoding\u001b[39;49m\u001b[38;5;124;43m\"\u001b[39;49m\u001b[43m,\u001b[49m\u001b[43m \u001b[49m\u001b[38;5;28;43;01mNone\u001b[39;49;00m\u001b[43m)\u001b[49m\u001b[43m,\u001b[49m\n\u001b[1;32m   1739\u001b[0m \u001b[43m    \u001b[49m\u001b[43mcompression\u001b[49m\u001b[38;5;241;43m=\u001b[39;49m\u001b[38;5;28;43mself\u001b[39;49m\u001b[38;5;241;43m.\u001b[39;49m\u001b[43moptions\u001b[49m\u001b[38;5;241;43m.\u001b[39;49m\u001b[43mget\u001b[49m\u001b[43m(\u001b[49m\u001b[38;5;124;43m\"\u001b[39;49m\u001b[38;5;124;43mcompression\u001b[39;49m\u001b[38;5;124;43m\"\u001b[39;49m\u001b[43m,\u001b[49m\u001b[43m \u001b[49m\u001b[38;5;28;43;01mNone\u001b[39;49;00m\u001b[43m)\u001b[49m\u001b[43m,\u001b[49m\n\u001b[1;32m   1740\u001b[0m \u001b[43m    \u001b[49m\u001b[43mmemory_map\u001b[49m\u001b[38;5;241;43m=\u001b[39;49m\u001b[38;5;28;43mself\u001b[39;49m\u001b[38;5;241;43m.\u001b[39;49m\u001b[43moptions\u001b[49m\u001b[38;5;241;43m.\u001b[39;49m\u001b[43mget\u001b[49m\u001b[43m(\u001b[49m\u001b[38;5;124;43m\"\u001b[39;49m\u001b[38;5;124;43mmemory_map\u001b[39;49m\u001b[38;5;124;43m\"\u001b[39;49m\u001b[43m,\u001b[49m\u001b[43m \u001b[49m\u001b[38;5;28;43;01mFalse\u001b[39;49;00m\u001b[43m)\u001b[49m\u001b[43m,\u001b[49m\n\u001b[1;32m   1741\u001b[0m \u001b[43m    \u001b[49m\u001b[43mis_text\u001b[49m\u001b[38;5;241;43m=\u001b[39;49m\u001b[43mis_text\u001b[49m\u001b[43m,\u001b[49m\n\u001b[1;32m   1742\u001b[0m \u001b[43m    \u001b[49m\u001b[43merrors\u001b[49m\u001b[38;5;241;43m=\u001b[39;49m\u001b[38;5;28;43mself\u001b[39;49m\u001b[38;5;241;43m.\u001b[39;49m\u001b[43moptions\u001b[49m\u001b[38;5;241;43m.\u001b[39;49m\u001b[43mget\u001b[49m\u001b[43m(\u001b[49m\u001b[38;5;124;43m\"\u001b[39;49m\u001b[38;5;124;43mencoding_errors\u001b[39;49m\u001b[38;5;124;43m\"\u001b[39;49m\u001b[43m,\u001b[49m\u001b[43m \u001b[49m\u001b[38;5;124;43m\"\u001b[39;49m\u001b[38;5;124;43mstrict\u001b[39;49m\u001b[38;5;124;43m\"\u001b[39;49m\u001b[43m)\u001b[49m\u001b[43m,\u001b[49m\n\u001b[1;32m   1743\u001b[0m \u001b[43m    \u001b[49m\u001b[43mstorage_options\u001b[49m\u001b[38;5;241;43m=\u001b[39;49m\u001b[38;5;28;43mself\u001b[39;49m\u001b[38;5;241;43m.\u001b[39;49m\u001b[43moptions\u001b[49m\u001b[38;5;241;43m.\u001b[39;49m\u001b[43mget\u001b[49m\u001b[43m(\u001b[49m\u001b[38;5;124;43m\"\u001b[39;49m\u001b[38;5;124;43mstorage_options\u001b[39;49m\u001b[38;5;124;43m\"\u001b[39;49m\u001b[43m,\u001b[49m\u001b[43m \u001b[49m\u001b[38;5;28;43;01mNone\u001b[39;49;00m\u001b[43m)\u001b[49m\u001b[43m,\u001b[49m\n\u001b[1;32m   1744\u001b[0m \u001b[43m\u001b[49m\u001b[43m)\u001b[49m\n\u001b[1;32m   1745\u001b[0m \u001b[38;5;28;01massert\u001b[39;00m \u001b[38;5;28mself\u001b[39m\u001b[38;5;241m.\u001b[39mhandles \u001b[38;5;129;01mis\u001b[39;00m \u001b[38;5;129;01mnot\u001b[39;00m \u001b[38;5;28;01mNone\u001b[39;00m\n\u001b[1;32m   1746\u001b[0m f \u001b[38;5;241m=\u001b[39m \u001b[38;5;28mself\u001b[39m\u001b[38;5;241m.\u001b[39mhandles\u001b[38;5;241m.\u001b[39mhandle\n",
      "File \u001b[0;32m~/miniconda3/envs/sql_dep/lib/python3.9/site-packages/pandas/io/common.py:856\u001b[0m, in \u001b[0;36mget_handle\u001b[0;34m(path_or_buf, mode, encoding, compression, memory_map, is_text, errors, storage_options)\u001b[0m\n\u001b[1;32m    851\u001b[0m \u001b[38;5;28;01melif\u001b[39;00m \u001b[38;5;28misinstance\u001b[39m(handle, \u001b[38;5;28mstr\u001b[39m):\n\u001b[1;32m    852\u001b[0m     \u001b[38;5;66;03m# Check whether the filename is to be opened in binary mode.\u001b[39;00m\n\u001b[1;32m    853\u001b[0m     \u001b[38;5;66;03m# Binary mode does not support 'encoding' and 'newline'.\u001b[39;00m\n\u001b[1;32m    854\u001b[0m     \u001b[38;5;28;01mif\u001b[39;00m ioargs\u001b[38;5;241m.\u001b[39mencoding \u001b[38;5;129;01mand\u001b[39;00m \u001b[38;5;124m\"\u001b[39m\u001b[38;5;124mb\u001b[39m\u001b[38;5;124m\"\u001b[39m \u001b[38;5;129;01mnot\u001b[39;00m \u001b[38;5;129;01min\u001b[39;00m ioargs\u001b[38;5;241m.\u001b[39mmode:\n\u001b[1;32m    855\u001b[0m         \u001b[38;5;66;03m# Encoding\u001b[39;00m\n\u001b[0;32m--> 856\u001b[0m         handle \u001b[38;5;241m=\u001b[39m \u001b[38;5;28;43mopen\u001b[39;49m\u001b[43m(\u001b[49m\n\u001b[1;32m    857\u001b[0m \u001b[43m            \u001b[49m\u001b[43mhandle\u001b[49m\u001b[43m,\u001b[49m\n\u001b[1;32m    858\u001b[0m \u001b[43m            \u001b[49m\u001b[43mioargs\u001b[49m\u001b[38;5;241;43m.\u001b[39;49m\u001b[43mmode\u001b[49m\u001b[43m,\u001b[49m\n\u001b[1;32m    859\u001b[0m \u001b[43m            \u001b[49m\u001b[43mencoding\u001b[49m\u001b[38;5;241;43m=\u001b[39;49m\u001b[43mioargs\u001b[49m\u001b[38;5;241;43m.\u001b[39;49m\u001b[43mencoding\u001b[49m\u001b[43m,\u001b[49m\n\u001b[1;32m    860\u001b[0m \u001b[43m            \u001b[49m\u001b[43merrors\u001b[49m\u001b[38;5;241;43m=\u001b[39;49m\u001b[43merrors\u001b[49m\u001b[43m,\u001b[49m\n\u001b[1;32m    861\u001b[0m \u001b[43m            \u001b[49m\u001b[43mnewline\u001b[49m\u001b[38;5;241;43m=\u001b[39;49m\u001b[38;5;124;43m\"\u001b[39;49m\u001b[38;5;124;43m\"\u001b[39;49m\u001b[43m,\u001b[49m\n\u001b[1;32m    862\u001b[0m \u001b[43m        \u001b[49m\u001b[43m)\u001b[49m\n\u001b[1;32m    863\u001b[0m     \u001b[38;5;28;01melse\u001b[39;00m:\n\u001b[1;32m    864\u001b[0m         \u001b[38;5;66;03m# Binary mode\u001b[39;00m\n\u001b[1;32m    865\u001b[0m         handle \u001b[38;5;241m=\u001b[39m \u001b[38;5;28mopen\u001b[39m(handle, ioargs\u001b[38;5;241m.\u001b[39mmode)\n",
      "\u001b[0;31mIsADirectoryError\u001b[0m: [Errno 21] Is a directory: '/'"
     ]
    }
   ],
   "source": [
    "for csv_file in csv_files:\n",
    "    \n",
    "    label_df = pd.read_csv(csv_file, on_bad_lines='skip')\n",
    "    \n",
    "    data_info = extract_data_from_Source_col(label_df)\n",
    "    \n",
    "    col_name_from_source = data_info[0]\n",
    "    \n",
    "    print(len(col_name_from_source))\n",
    "    filtered_info = data_info[1]\n",
    "    \n",
    "    #df_out=pd.DataFrame(filtered_info, columns=col_name_from_source)\n",
    "    \n",
    "    #print(df_out)\n",
    "    #col_name = label_df.columns[label_df.columns.str.contains(pat = 'Source')]\n",
    "    \n",
    "    #col_name = col_name[0]\n",
    "    #print(col_name)\n",
    "    \n",
    "    #session_labels=label_df[col_name].to_list()\n",
    "    \n",
    "    \n",
    "    #for single_label in session_labels:\n",
    "    #    single_label = str(single_label)\n",
    "    #    comma_sep = single_label.replace(';', ',')\n",
    "    #    comma_sep_list=comma_sep.split(',')\n",
    "    #    str_list = list(filter(None, comma_sep_list))\n",
    "    #    fileterd_info = [str_eleme.strip() for str_eleme in str_list]\n",
    "        \n",
    "    #    print(fileterd_info)\n",
    "    #print(list(col_name))\n",
    "    \n",
    "    #selected_col_data = label_df[col_name]   \n",
    "    #print(selected_col_data)\n",
    "    \n",
    "    \n",
    "    \n",
    "    #if 'Source;label;start_n;end_n;remark ' in label_df.columns:\n",
    "        #print(label_df[\"Source;label;start_n;end_n;remark \"]\n",
    "    #print(('Source;label;start_n;end_n;remark ' or 'Source;label;start_n;end_n;remark' in label_df.columns))\n",
    "    #print(label_df.columns)\n",
    "    "
   ]
  },
  {
   "cell_type": "code",
   "execution_count": 149,
   "id": "b12666a7-39ae-48d3-a4c1-8cb60d87c3fe",
   "metadata": {},
   "outputs": [
    {
     "data": {
      "text/plain": [
       "'Source;label;start_n ;end_n ;remark '"
      ]
     },
     "execution_count": 149,
     "metadata": {},
     "output_type": "execute_result"
    }
   ],
   "source": [
    "col_name_from_source"
   ]
  },
  {
   "cell_type": "code",
   "execution_count": null,
   "id": "f5b2bab8-ea02-48da-b39b-f5e9ec577982",
   "metadata": {},
   "outputs": [],
   "source": []
  },
  {
   "cell_type": "code",
   "execution_count": 120,
   "id": "e42dedfa-ed9d-4929-979d-4ee87592236e",
   "metadata": {},
   "outputs": [],
   "source": [
    "label_df = pd.read_csv(csv_file, on_bad_lines='skip')"
   ]
  },
  {
   "cell_type": "code",
   "execution_count": 133,
   "id": "65e61278-1bc9-4e5b-a298-7c8beb310c48",
   "metadata": {},
   "outputs": [
    {
     "data": {
      "text/plain": [
       "Index(['IDType', 'Start', 'End', 'Source;label;start_n ;end_n ;remark '], dtype='object')"
      ]
     },
     "execution_count": 133,
     "metadata": {},
     "output_type": "execute_result"
    }
   ],
   "source": [
    "label_df.columns"
   ]
  },
  {
   "cell_type": "code",
   "execution_count": 134,
   "id": "374fc47e-bbeb-4b21-9a78-8959a05e0dea",
   "metadata": {},
   "outputs": [],
   "source": [
    "new_df=label_df[['IDType', 'Start', 'End']]"
   ]
  },
  {
   "cell_type": "code",
   "execution_count": 136,
   "id": "96106a36-114e-41fe-8a77-e06f82dc0739",
   "metadata": {},
   "outputs": [
    {
     "data": {
      "text/plain": [
       "RangeIndex(start=0, stop=7, step=1)"
      ]
     },
     "execution_count": 136,
     "metadata": {},
     "output_type": "execute_result"
    }
   ],
   "source": []
  },
  {
   "cell_type": "code",
   "execution_count": 117,
   "id": "972d7a73-5c12-48bc-9149-a07cd2492797",
   "metadata": {},
   "outputs": [
    {
     "data": {
      "text/plain": [
       "['Both', '0', 'incorrect label']"
      ]
     },
     "execution_count": 117,
     "metadata": {},
     "output_type": "execute_result"
    }
   ],
   "source": [
    "fileterd_info\n"
   ]
  },
  {
   "cell_type": "code",
   "execution_count": 116,
   "id": "3d0dbdaf-7789-45a4-bb85-b90e93766d2e",
   "metadata": {},
   "outputs": [
    {
     "data": {
      "text/plain": [
       "'Source;label;start_n ;end_n ;remark '"
      ]
     },
     "execution_count": 116,
     "metadata": {},
     "output_type": "execute_result"
    }
   ],
   "source": [
    "col_name"
   ]
  },
  {
   "cell_type": "code",
   "execution_count": 59,
   "id": "14e9846d-9a2d-4360-b52f-0a907b1d20ab",
   "metadata": {},
   "outputs": [],
   "source": [
    "#filtered_info = splitted_info.remove('')"
   ]
  },
  {
   "cell_type": "code",
   "execution_count": null,
   "id": "a4bc164d-227c-48e5-9520-d76c49564493",
   "metadata": {},
   "outputs": [],
   "source": []
  },
  {
   "cell_type": "code",
   "execution_count": null,
   "id": "e3ef6d04-b8f5-4a9c-b9e8-884510b349aa",
   "metadata": {},
   "outputs": [],
   "source": [
    "csv_file_names = []\n",
    "total_labels_sessions = []\n",
    "incorrect_label_sessions = []\n",
    "incorrect_percentage_sessions = []\n",
    "manual_flags = []\n",
    "\n",
    "for csv_file in csv_files:\n",
    "    #label_df= pd.read_csv(csv_file)\n",
    "    #print(csv_file)\n",
    "    label_df= pd.read_csv(csv_file, on_bad_lines='skip')\n",
    "    this_file = os.path.basename(csv_file)\n",
    "    #print(csv_file)\n",
    "    i =0\n",
    "    for col in label_df.columns:\n",
    "        if col.startswith(\"Source\"):\n",
    "            #print(col)\n",
    "            session_labels=label_df[col].to_list()\n",
    "            \n",
    "            #print(session_labels)\n",
    "            \n",
    "            total_labels = len(session_labels)\n",
    "            \n",
    "            for single_label in session_labels:\n",
    "                \n",
    "                single_label=str(single_label)\n",
    "                \n",
    "                splitted_info = single_label.split(';')\n",
    "                \n",
    "                #if \"Both\" and \"incorrect label\" in splitted_info:\n",
    "                if (\"incorrect label\" or \"incorrect label \") in splitted_info:\n",
    "                    i=i+1\n",
    "                    \n",
    "                #elif (\"face not visible\") in splitted_info:\n",
    "                    #print(\"face_not_detected\")\n",
    "                    \n",
    "                            \n",
    "            print(csv_file)      \n",
    "            incorrect_percentage=(i/total_labels)*100\n",
    "            if incorrect_percentage < 50:\n",
    "                manual_flag = 'true'\n",
    "            else:\n",
    "                manual_flag = 'false'\n",
    "                \n",
    "                \n",
    "    csv_file_names.append(this_file)\n",
    "    total_labels_sessions.append(total_labels)\n",
    "    incorrect_label_sessions.append(i)\n",
    "    incorrect_percentage_sessions.append(incorrect_percentage)\n",
    "    manual_flags.append(manual_flag)\n",
    "    \n",
    "\n",
    "                \n",
    "labeling_info = {'file_name': csv_file_names, \"total_labels\": total_labels_sessions, 'incorrect_labels': incorrect_label_sessions, 'incorrect_percentage': incorrect_percentage_sessions, 'check_manually': manual_flags}        \n",
    "                    \n"
   ]
  },
  {
   "cell_type": "code",
   "execution_count": 104,
   "id": "31ce4c3f-022f-4ead-afa9-0d39bb994946",
   "metadata": {},
   "outputs": [],
   "source": [
    "labeling_info_df = pd.DataFrame.from_dict(labeling_info)"
   ]
  },
  {
   "cell_type": "code",
   "execution_count": 105,
   "id": "d00751df-75e2-4b49-bae4-645dc9d7033d",
   "metadata": {},
   "outputs": [
    {
     "data": {
      "text/html": [
       "<div>\n",
       "<style scoped>\n",
       "    .dataframe tbody tr th:only-of-type {\n",
       "        vertical-align: middle;\n",
       "    }\n",
       "\n",
       "    .dataframe tbody tr th {\n",
       "        vertical-align: top;\n",
       "    }\n",
       "\n",
       "    .dataframe thead th {\n",
       "        text-align: right;\n",
       "    }\n",
       "</style>\n",
       "<table border=\"1\" class=\"dataframe\">\n",
       "  <thead>\n",
       "    <tr style=\"text-align: right;\">\n",
       "      <th></th>\n",
       "      <th>file_name</th>\n",
       "      <th>total_labels</th>\n",
       "      <th>incorrect_labels</th>\n",
       "      <th>incorrect_percentage</th>\n",
       "      <th>check_manually</th>\n",
       "    </tr>\n",
       "  </thead>\n",
       "  <tbody>\n",
       "    <tr>\n",
       "      <th>0</th>\n",
       "      <td>FR_ESE_23_140119_1000_nutrition_EmoVideoAnnota...</td>\n",
       "      <td>3</td>\n",
       "      <td>3</td>\n",
       "      <td>100.000000</td>\n",
       "      <td>false</td>\n",
       "    </tr>\n",
       "    <tr>\n",
       "      <th>1</th>\n",
       "      <td>FR_ESE_11_301018_1500_nutrition_EmoVideoAnnota...</td>\n",
       "      <td>6</td>\n",
       "      <td>5</td>\n",
       "      <td>83.333333</td>\n",
       "      <td>false</td>\n",
       "    </tr>\n",
       "    <tr>\n",
       "      <th>2</th>\n",
       "      <td>FR_ESE_12_311018_1500_generic_EmoVideoAnnotati...</td>\n",
       "      <td>6</td>\n",
       "      <td>5</td>\n",
       "      <td>83.333333</td>\n",
       "      <td>false</td>\n",
       "    </tr>\n",
       "    <tr>\n",
       "      <th>3</th>\n",
       "      <td>FR_ESE_16_211118_1400_generic_EmoVideoAnnotati...</td>\n",
       "      <td>48</td>\n",
       "      <td>23</td>\n",
       "      <td>47.916667</td>\n",
       "      <td>true</td>\n",
       "    </tr>\n",
       "    <tr>\n",
       "      <th>4</th>\n",
       "      <td>FR_ESE_07_221018_1400_generic_EmoVideoAnnotati...</td>\n",
       "      <td>19</td>\n",
       "      <td>19</td>\n",
       "      <td>100.000000</td>\n",
       "      <td>false</td>\n",
       "    </tr>\n",
       "    <tr>\n",
       "      <th>...</th>\n",
       "      <td>...</td>\n",
       "      <td>...</td>\n",
       "      <td>...</td>\n",
       "      <td>...</td>\n",
       "      <td>...</td>\n",
       "    </tr>\n",
       "    <tr>\n",
       "      <th>61</th>\n",
       "      <td>FR_ESE_17_261118_1000_nutrition_EmoVideoAnnota...</td>\n",
       "      <td>11</td>\n",
       "      <td>11</td>\n",
       "      <td>100.000000</td>\n",
       "      <td>false</td>\n",
       "    </tr>\n",
       "    <tr>\n",
       "      <th>62</th>\n",
       "      <td>FR_ESE_14_191118_1400_generic_EmoVideoAnnotati...</td>\n",
       "      <td>3</td>\n",
       "      <td>2</td>\n",
       "      <td>66.666667</td>\n",
       "      <td>false</td>\n",
       "    </tr>\n",
       "    <tr>\n",
       "      <th>63</th>\n",
       "      <td>FR_ESE_29_171218_1600_generic_EmoVideoAnnotati...</td>\n",
       "      <td>21</td>\n",
       "      <td>21</td>\n",
       "      <td>100.000000</td>\n",
       "      <td>false</td>\n",
       "    </tr>\n",
       "    <tr>\n",
       "      <th>64</th>\n",
       "      <td>FR_TUN_01_010219_1400_nutrition_EmoVideoAnnota...</td>\n",
       "      <td>4</td>\n",
       "      <td>0</td>\n",
       "      <td>0.000000</td>\n",
       "      <td>true</td>\n",
       "    </tr>\n",
       "    <tr>\n",
       "      <th>65</th>\n",
       "      <td>FR_ESE_15_160119_1100_nutrition_EmoVideoAnnota...</td>\n",
       "      <td>7</td>\n",
       "      <td>0</td>\n",
       "      <td>0.000000</td>\n",
       "      <td>true</td>\n",
       "    </tr>\n",
       "  </tbody>\n",
       "</table>\n",
       "<p>66 rows × 5 columns</p>\n",
       "</div>"
      ],
      "text/plain": [
       "                                            file_name  total_labels  \\\n",
       "0   FR_ESE_23_140119_1000_nutrition_EmoVideoAnnota...             3   \n",
       "1   FR_ESE_11_301018_1500_nutrition_EmoVideoAnnota...             6   \n",
       "2   FR_ESE_12_311018_1500_generic_EmoVideoAnnotati...             6   \n",
       "3   FR_ESE_16_211118_1400_generic_EmoVideoAnnotati...            48   \n",
       "4   FR_ESE_07_221018_1400_generic_EmoVideoAnnotati...            19   \n",
       "..                                                ...           ...   \n",
       "61  FR_ESE_17_261118_1000_nutrition_EmoVideoAnnota...            11   \n",
       "62  FR_ESE_14_191118_1400_generic_EmoVideoAnnotati...             3   \n",
       "63  FR_ESE_29_171218_1600_generic_EmoVideoAnnotati...            21   \n",
       "64  FR_TUN_01_010219_1400_nutrition_EmoVideoAnnota...             4   \n",
       "65  FR_ESE_15_160119_1100_nutrition_EmoVideoAnnota...             7   \n",
       "\n",
       "    incorrect_labels  incorrect_percentage check_manually  \n",
       "0                  3            100.000000          false  \n",
       "1                  5             83.333333          false  \n",
       "2                  5             83.333333          false  \n",
       "3                 23             47.916667           true  \n",
       "4                 19            100.000000          false  \n",
       "..               ...                   ...            ...  \n",
       "61                11            100.000000          false  \n",
       "62                 2             66.666667          false  \n",
       "63                21            100.000000          false  \n",
       "64                 0              0.000000           true  \n",
       "65                 0              0.000000           true  \n",
       "\n",
       "[66 rows x 5 columns]"
      ]
     },
     "execution_count": 105,
     "metadata": {},
     "output_type": "execute_result"
    }
   ],
   "source": [
    "labeling_info_df"
   ]
  },
  {
   "cell_type": "code",
   "execution_count": 107,
   "id": "3c7ac856-49c2-474a-b16e-c8c829f63d86",
   "metadata": {},
   "outputs": [],
   "source": [
    "labeling_info_df.to_csv(\"evita_french_data_annotation_quality_check.csv\")"
   ]
  },
  {
   "cell_type": "code",
   "execution_count": 88,
   "id": "feb3296e-e1b0-4f5e-b12f-e3950a8e1b2b",
   "metadata": {},
   "outputs": [],
   "source": [
    "label_df = pd.read_csv(path,  on_bad_lines='skip')"
   ]
  },
  {
   "cell_type": "code",
   "execution_count": 89,
   "id": "6e299bfe-726d-4eb7-9606-4ae09b4cb6cf",
   "metadata": {},
   "outputs": [
    {
     "data": {
      "text/html": [
       "<div>\n",
       "<style scoped>\n",
       "    .dataframe tbody tr th:only-of-type {\n",
       "        vertical-align: middle;\n",
       "    }\n",
       "\n",
       "    .dataframe tbody tr th {\n",
       "        vertical-align: top;\n",
       "    }\n",
       "\n",
       "    .dataframe thead th {\n",
       "        text-align: right;\n",
       "    }\n",
       "</style>\n",
       "<table border=\"1\" class=\"dataframe\">\n",
       "  <thead>\n",
       "    <tr style=\"text-align: right;\">\n",
       "      <th></th>\n",
       "      <th>IDType</th>\n",
       "      <th>Start</th>\n",
       "      <th>End</th>\n",
       "      <th>Source;label;start_n;end_n;remark</th>\n",
       "    </tr>\n",
       "  </thead>\n",
       "  <tbody>\n",
       "    <tr>\n",
       "      <th>0</th>\n",
       "      <td>3</td>\n",
       "      <td>1670</td>\n",
       "      <td>11219</td>\n",
       "      <td>Both;4;;;\"incorrect label; hands cover the fac...</td>\n",
       "    </tr>\n",
       "    <tr>\n",
       "      <th>1</th>\n",
       "      <td>3</td>\n",
       "      <td>109090</td>\n",
       "      <td>112134</td>\n",
       "      <td>Both;4;;;incorrect label</td>\n",
       "    </tr>\n",
       "    <tr>\n",
       "      <th>2</th>\n",
       "      <td>4</td>\n",
       "      <td>482936</td>\n",
       "      <td>487337</td>\n",
       "      <td>Both;4;;;talking to another person</td>\n",
       "    </tr>\n",
       "    <tr>\n",
       "      <th>3</th>\n",
       "      <td>3</td>\n",
       "      <td>494086</td>\n",
       "      <td>503872</td>\n",
       "      <td>Both;0;;;\"incorrect label; talking to another ...</td>\n",
       "    </tr>\n",
       "    <tr>\n",
       "      <th>4</th>\n",
       "      <td>3</td>\n",
       "      <td>54229</td>\n",
       "      <td>55822</td>\n",
       "      <td>Annotator 2;0;;;incorrect label</td>\n",
       "    </tr>\n",
       "  </tbody>\n",
       "</table>\n",
       "</div>"
      ],
      "text/plain": [
       "   IDType   Start     End                  Source;label;start_n;end_n;remark\n",
       "0       3    1670   11219  Both;4;;;\"incorrect label; hands cover the fac...\n",
       "1       3  109090  112134                           Both;4;;;incorrect label\n",
       "2       4  482936  487337                 Both;4;;;talking to another person\n",
       "3       3  494086  503872  Both;0;;;\"incorrect label; talking to another ...\n",
       "4       3   54229   55822                    Annotator 2;0;;;incorrect label"
      ]
     },
     "execution_count": 89,
     "metadata": {},
     "output_type": "execute_result"
    }
   ],
   "source": [
    "label_df"
   ]
  },
  {
   "cell_type": "code",
   "execution_count": 74,
   "id": "593e8c52-0207-482d-9f59-7f3f359a6bce",
   "metadata": {},
   "outputs": [
    {
     "name": "stdout",
     "output_type": "stream",
     "text": [
      "['Both', '0', '', '', 'incorrect label ']\n",
      "['Both', '5', '', '', 'incorrect label ']\n",
      "['Both', '1', '', '', 'incorrect label ']\n",
      "['Both', '5', '', '', 'incorrect label ']\n",
      "['Both', '0', '', '', 'incorrect label ']\n",
      "['Both', '5', '', '', '\"incorrect label', ' talking to another person \"']\n",
      "['Both', '0', '', '', 'incorrect label ']\n",
      "/home/muhammad/Desktop/Datasets/dataset_evaluation_EVITA/labeled/FR_ESE_15_160119_1100_nutrition_EmoVideoAnnotation_master.csv\n",
      "0.8571428571428571\n"
     ]
    }
   ],
   "source": [
    "i =0\n",
    "for col in label_df.columns:\n",
    "    if col.startswith(\"Source\"):\n",
    "            #print(col)\n",
    "        session_labels=label_df[col].to_list()\n",
    "            \n",
    "            #print(session_labels)\n",
    "            \n",
    "        total_labels = len(session_labels)\n",
    "            \n",
    "        for single_label in session_labels:\n",
    "                \n",
    "            single_label=str(single_label)\n",
    "                \n",
    "            splitted_info = single_label.split(';')\n",
    "            \n",
    "            print(splitted_info)\n",
    "                \n",
    "            #if \"Both\" and \"incorrect label\" in splitted_info:\n",
    "            if (\"incorrect label \" or \"incorrect label\" )in splitted_info:\n",
    "                i=i+1\n",
    "                    \n",
    "                    \n",
    "        print(csv_file)        \n",
    "        print(i/total_labels)\n",
    "                    "
   ]
  },
  {
   "cell_type": "code",
   "execution_count": null,
   "id": "c11cdfe9-63f8-405d-8877-b11e6c3164f4",
   "metadata": {},
   "outputs": [],
   "source": []
  },
  {
   "cell_type": "code",
   "execution_count": null,
   "id": "5b0ff3c2-99cb-412b-9784-9a765f9ab7ea",
   "metadata": {},
   "outputs": [],
   "source": [
    " \n",
    "        \n",
    "        \n",
    "        \n",
    "        \n",
    "    ###-------------------------------\n",
    "    #if \"remark\" in label_df.columns:\n",
    "    #ä    print('yes')\n",
    "    #else:\n",
    "    #    print('no')\n",
    "        \n",
    "        #session_labels= label_df[\"Source;Label;Start_n;End_n;Remark\"].to_list()\n",
    "        #total_labels = len(session_labels)\n",
    "        #i = 0\n",
    "\n",
    "        #for single_label in session_labels:\n",
    "         #   splitted_info = single_label.split(';')\n",
    "         #   if \"Both\" and \"incorrect label\" in splitted_info:\n",
    "          #      i=i+1\n",
    "                #print(i)\n",
    "            #else:\n",
    "             #   print('correct_label')\n",
    "\n",
    "        #wrongly_classified_percentage = i/total_labes\n",
    "        #print(wrongly_classified_percentage)\n",
    "        \n",
    "\n",
    "\n",
    "        \n",
    "        \n",
    "    "
   ]
  },
  {
   "cell_type": "code",
   "execution_count": null,
   "id": "05823cc5-2678-43a2-aa7f-5c966b21a45f",
   "metadata": {},
   "outputs": [],
   "source": []
  },
  {
   "cell_type": "code",
   "execution_count": null,
   "id": "acd4281f-24f9-44e1-8aa1-0daf2a2f62b5",
   "metadata": {},
   "outputs": [],
   "source": []
  },
  {
   "cell_type": "code",
   "execution_count": null,
   "id": "fc89fc0c-19a5-47d4-ad09-cbd5ca222fe9",
   "metadata": {},
   "outputs": [],
   "source": [
    "\n"
   ]
  },
  {
   "cell_type": "code",
   "execution_count": null,
   "id": "379918f8-8cd9-4fbf-9769-b0a1f24728e9",
   "metadata": {},
   "outputs": [],
   "source": []
  },
  {
   "cell_type": "code",
   "execution_count": null,
   "id": "4798bb39-e4f4-4873-9b4a-70087f51af09",
   "metadata": {},
   "outputs": [],
   "source": []
  },
  {
   "cell_type": "code",
   "execution_count": null,
   "id": "a0fab8a3-87a8-47e6-b18d-7d3809aaec8e",
   "metadata": {},
   "outputs": [],
   "source": []
  }
 ],
 "metadata": {
  "kernelspec": {
   "display_name": "Python 3 (ipykernel)",
   "language": "python",
   "name": "python3"
  },
  "language_info": {
   "codemirror_mode": {
    "name": "ipython",
    "version": 3
   },
   "file_extension": ".py",
   "mimetype": "text/x-python",
   "name": "python",
   "nbconvert_exporter": "python",
   "pygments_lexer": "ipython3",
   "version": "3.9.16"
  }
 },
 "nbformat": 4,
 "nbformat_minor": 5
}
